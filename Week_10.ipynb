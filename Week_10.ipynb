{
 "cells": [
  {
   "cell_type": "markdown",
   "id": "0227e73b",
   "metadata": {},
   "source": [
    "# Virtual Environments and Requests Module"
   ]
  },
  {
   "cell_type": "code",
   "execution_count": 2,
   "id": "f27db979",
   "metadata": {},
   "outputs": [
    {
     "name": "stdout",
     "output_type": "stream",
     "text": [
      "<Response [200]>\n",
      "<class 'requests.models.Response'>\n"
     ]
    }
   ],
   "source": [
    "# sending a request and logging the response code\n",
    "import requests\n",
    "r = requests.get(\"https://api.github.com/users/Connor-SM\")\n",
    "print(r)\n",
    "print(type(r))"
   ]
  },
  {
   "cell_type": "code",
   "execution_count": 3,
   "id": "1023139f",
   "metadata": {},
   "outputs": [
    {
     "name": "stdout",
     "output_type": "stream",
     "text": [
      "b'{\"login\":\"Connor-SM\",\"id\":20958711,\"node_id\":\"MDQ6VXNlcjIwOTU4NzEx\",\"avatar_url\":\"https://avatars.githubusercontent.com/u/20958711?v=4\",\"gravatar_id\":\"\",\"url\":\"https://api.github.com/users/Connor-SM\",\"html_url\":\"https://github.com/Connor-SM\",\"followers_url\":\"https://api.github.com/users/Connor-SM/followers\",\"following_url\":\"https://api.github.com/users/Connor-SM/following{/other_user}\",\"gists_url\":\"https://api.github.com/users/Connor-SM/gists{/gist_id}\",\"starred_url\":\"https://api.github.com/users/Connor-SM/starred{/owner}{/repo}\",\"subscriptions_url\":\"https://api.github.com/users/Connor-SM/subscriptions\",\"organizations_url\":\"https://api.github.com/users/Connor-SM/orgs\",\"repos_url\":\"https://api.github.com/users/Connor-SM/repos\",\"events_url\":\"https://api.github.com/users/Connor-SM/events{/privacy}\",\"received_events_url\":\"https://api.github.com/users/Connor-SM/received_events\",\"type\":\"User\",\"site_admin\":false,\"name\":\"Connor Milliken\",\"company\":\"HubSpot, Inc.\",\"blog\":\"www.connormilliken.com\",\"location\":\"Boston, MA\",\"email\":null,\"hireable\":null,\"bio\":\"- Author of Python Projects for Beginners\\\\r\\\\n\\\\r\\\\n- Python Instructor\\\\r\\\\n\\\\r\\\\n- Adventurer/Traveler\",\"twitter_username\":null,\"public_repos\":51,\"public_gists\":0,\"followers\":118,\"following\":36,\"created_at\":\"2016-08-10T22:39:46Z\",\"updated_at\":\"2022-02-03T01:35:00Z\"}'\n"
     ]
    }
   ],
   "source": [
    "# accessing the content that we requested from the URL\n",
    "data = r.content\n",
    "print(data)"
   ]
  },
  {
   "cell_type": "code",
   "execution_count": 4,
   "id": "4f068316",
   "metadata": {},
   "outputs": [
    {
     "name": "stdout",
     "output_type": "stream",
     "text": [
      "Key: login\t Value: Connor-SM\n",
      "Key: id\t Value: 20958711\n",
      "Key: node_id\t Value: MDQ6VXNlcjIwOTU4NzEx\n",
      "Key: avatar_url\t Value: https://avatars.githubusercontent.com/u/20958711?v=4\n",
      "Key: gravatar_id\t Value: \n",
      "Key: url\t Value: https://api.github.com/users/Connor-SM\n",
      "Key: html_url\t Value: https://github.com/Connor-SM\n",
      "Key: followers_url\t Value: https://api.github.com/users/Connor-SM/followers\n",
      "Key: following_url\t Value: https://api.github.com/users/Connor-SM/following{/other_user}\n",
      "Key: gists_url\t Value: https://api.github.com/users/Connor-SM/gists{/gist_id}\n",
      "Key: starred_url\t Value: https://api.github.com/users/Connor-SM/starred{/owner}{/repo}\n",
      "Key: subscriptions_url\t Value: https://api.github.com/users/Connor-SM/subscriptions\n",
      "Key: organizations_url\t Value: https://api.github.com/users/Connor-SM/orgs\n",
      "Key: repos_url\t Value: https://api.github.com/users/Connor-SM/repos\n",
      "Key: events_url\t Value: https://api.github.com/users/Connor-SM/events{/privacy}\n",
      "Key: received_events_url\t Value: https://api.github.com/users/Connor-SM/received_events\n",
      "Key: type\t Value: User\n",
      "Key: site_admin\t Value: False\n",
      "Key: name\t Value: Connor Milliken\n",
      "Key: company\t Value: HubSpot, Inc.\n",
      "Key: blog\t Value: www.connormilliken.com\n",
      "Key: location\t Value: Boston, MA\n",
      "Key: email\t Value: None\n",
      "Key: hireable\t Value: None\n",
      "Key: bio\t Value: - Author of Python Projects for Beginners\r\n",
      "\r\n",
      "- Python Instructor\r\n",
      "\r\n",
      "- Adventurer/Traveler\n",
      "Key: twitter_username\t Value: None\n",
      "Key: public_repos\t Value: 51\n",
      "Key: public_gists\t Value: 0\n",
      "Key: followers\t Value: 118\n",
      "Key: following\t Value: 36\n",
      "Key: created_at\t Value: 2016-08-10T22:39:46Z\n",
      "Key: updated_at\t Value: 2022-02-03T01:35:00Z\n",
      "Connor Milliken\n"
     ]
    }
   ],
   "source": [
    "# converting data from JSON into a Python dictionary and outputting all key-value pairs\n",
    "data = r.json()\n",
    "for k, v in data.items():\n",
    "    print(\"Key: {}\\t Value: {}\".format(k, v))\n",
    "print(data[\"name\"])"
   ]
  },
  {
   "cell_type": "code",
   "execution_count": 5,
   "id": "a0fbb18f",
   "metadata": {},
   "outputs": [
    {
     "name": "stdout",
     "output_type": "stream",
     "text": [
      "9454935\n"
     ]
    }
   ],
   "source": [
    "# outputting specific key-value pairs from data\n",
    "r = requests.get(\"https://api.github.com/search/repositories?q=language:python\")\n",
    "data = r.json()\n",
    "print(data[\"total_count\"])"
   ]
  },
  {
   "cell_type": "markdown",
   "id": "1418703b",
   "metadata": {},
   "source": [
    "# Pandas"
   ]
  },
  {
   "cell_type": "code",
   "execution_count": 1,
   "id": "3b22b31c",
   "metadata": {},
   "outputs": [],
   "source": [
    "# importing the pandas library\n",
    "import pandas as pd"
   ]
  },
  {
   "cell_type": "code",
   "execution_count": 2,
   "id": "4e61e37c",
   "metadata": {},
   "outputs": [
    {
     "name": "stdout",
     "output_type": "stream",
     "text": [
      "     names  ages\n",
      "0     Jess    25\n",
      "1   Jordan    35\n",
      "2    Sandy    22\n",
      "3      Ted    29\n",
      "4   Barney    33\n",
      "5    Tyler    20\n",
      "6  Rebecca    18\n"
     ]
    }
   ],
   "source": [
    "# using the from_dict method to convert a dictionary into a Pandas DataFrame\n",
    "import random\n",
    "random.seed(3)\n",
    "names = [\"Jess\", \"Jordan\", \"Sandy\", \"Ted\", \"Barney\", \"Tyler\", \"Rebecca\"]\n",
    "ages = [random.randint(18,35) for x in range(len(names))]\n",
    "people = {\"names\" : names, \"ages\" : ages}\n",
    "df = pd.DataFrame.from_dict(people)\n",
    "print(df)"
   ]
  },
  {
   "cell_type": "code",
   "execution_count": 3,
   "id": "0c30b840",
   "metadata": {},
   "outputs": [
    {
     "name": "stdout",
     "output_type": "stream",
     "text": [
      "0    25\n",
      "1    35\n",
      "2    22\n",
      "3    29\n",
      "4    33\n",
      "5    20\n",
      "6    18\n",
      "Name: ages, dtype: int64\n",
      "29\n"
     ]
    }
   ],
   "source": [
    "# directly selecting a column in Pandas\n",
    "print(df[\"ages\"])\n",
    "print(df[\"ages\"][3])\n"
   ]
  },
  {
   "cell_type": "code",
   "execution_count": 4,
   "id": "5661a7d1",
   "metadata": {},
   "outputs": [
    {
     "name": "stdout",
     "output_type": "stream",
     "text": [
      "names    Jess\n",
      "ages       25\n",
      "Name: 0, dtype: object\n",
      "Jess\n"
     ]
    }
   ],
   "source": [
    "# directly selecting a record in Pandas using .loc\n",
    "print(df.loc[0])\n",
    "print(df.loc[0][\"names\"])"
   ]
  },
  {
   "cell_type": "code",
   "execution_count": 7,
   "id": "f295ca77",
   "metadata": {},
   "outputs": [
    {
     "name": "stdout",
     "output_type": "stream",
     "text": [
      "    names  ages\n",
      "2   Sandy    22\n",
      "3     Ted    29\n",
      "4  Barney    33\n"
     ]
    }
   ],
   "source": [
    "# slicing a DataFrame to grab specific records\n",
    "print(df[2:5])"
   ]
  },
  {
   "cell_type": "code",
   "execution_count": 8,
   "id": "9f8192a8",
   "metadata": {},
   "outputs": [
    {
     "data": {
      "text/html": [
       "<div>\n",
       "<style scoped>\n",
       "    .dataframe tbody tr th:only-of-type {\n",
       "        vertical-align: middle;\n",
       "    }\n",
       "\n",
       "    .dataframe tbody tr th {\n",
       "        vertical-align: top;\n",
       "    }\n",
       "\n",
       "    .dataframe thead th {\n",
       "        text-align: right;\n",
       "    }\n",
       "</style>\n",
       "<table border=\"1\" class=\"dataframe\">\n",
       "  <thead>\n",
       "    <tr style=\"text-align: right;\">\n",
       "      <th></th>\n",
       "      <th>names</th>\n",
       "      <th>ages</th>\n",
       "    </tr>\n",
       "  </thead>\n",
       "  <tbody>\n",
       "    <tr>\n",
       "      <th>0</th>\n",
       "      <td>Jess</td>\n",
       "      <td>25</td>\n",
       "    </tr>\n",
       "    <tr>\n",
       "      <th>1</th>\n",
       "      <td>Jordan</td>\n",
       "      <td>35</td>\n",
       "    </tr>\n",
       "    <tr>\n",
       "      <th>2</th>\n",
       "      <td>Sandy</td>\n",
       "      <td>22</td>\n",
       "    </tr>\n",
       "    <tr>\n",
       "      <th>3</th>\n",
       "      <td>Ted</td>\n",
       "      <td>29</td>\n",
       "    </tr>\n",
       "    <tr>\n",
       "      <th>4</th>\n",
       "      <td>Barney</td>\n",
       "      <td>33</td>\n",
       "    </tr>\n",
       "  </tbody>\n",
       "</table>\n",
       "</div>"
      ],
      "text/plain": [
       "    names  ages\n",
       "0    Jess    25\n",
       "1  Jordan    35\n",
       "2   Sandy    22\n",
       "3     Ted    29\n",
       "4  Barney    33"
      ]
     },
     "execution_count": 8,
     "metadata": {},
     "output_type": "execute_result"
    }
   ],
   "source": [
    "# accessing the top 5 records using .head()\n",
    "df.head(5)"
   ]
  },
  {
   "cell_type": "code",
   "execution_count": 10,
   "id": "73f18ad7",
   "metadata": {},
   "outputs": [
    {
     "data": {
      "text/html": [
       "<div>\n",
       "<style scoped>\n",
       "    .dataframe tbody tr th:only-of-type {\n",
       "        vertical-align: middle;\n",
       "    }\n",
       "\n",
       "    .dataframe tbody tr th {\n",
       "        vertical-align: top;\n",
       "    }\n",
       "\n",
       "    .dataframe thead th {\n",
       "        text-align: right;\n",
       "    }\n",
       "</style>\n",
       "<table border=\"1\" class=\"dataframe\">\n",
       "  <thead>\n",
       "    <tr style=\"text-align: right;\">\n",
       "      <th></th>\n",
       "      <th>names</th>\n",
       "      <th>ages</th>\n",
       "    </tr>\n",
       "  </thead>\n",
       "  <tbody>\n",
       "    <tr>\n",
       "      <th>4</th>\n",
       "      <td>Barney</td>\n",
       "      <td>33</td>\n",
       "    </tr>\n",
       "    <tr>\n",
       "      <th>5</th>\n",
       "      <td>Tyler</td>\n",
       "      <td>20</td>\n",
       "    </tr>\n",
       "    <tr>\n",
       "      <th>6</th>\n",
       "      <td>Rebecca</td>\n",
       "      <td>18</td>\n",
       "    </tr>\n",
       "  </tbody>\n",
       "</table>\n",
       "</div>"
      ],
      "text/plain": [
       "     names  ages\n",
       "4   Barney    33\n",
       "5    Tyler    20\n",
       "6  Rebecca    18"
      ]
     },
     "execution_count": 10,
     "metadata": {},
     "output_type": "execute_result"
    }
   ],
   "source": [
    "# accessing the bottom 3 records using .tail()\n",
    "df.tail(3)"
   ]
  },
  {
   "cell_type": "code",
   "execution_count": 11,
   "id": "b363bfd7",
   "metadata": {},
   "outputs": [
    {
     "name": "stdout",
     "output_type": "stream",
     "text": [
      "Index(['names', 'ages'], dtype='object')\n"
     ]
    }
   ],
   "source": [
    "# accessing the column headers (keys) using the .keys() method\n",
    "headers = df.keys()\n",
    "print(headers)"
   ]
  },
  {
   "cell_type": "code",
   "execution_count": 12,
   "id": "12152f29",
   "metadata": {},
   "outputs": [
    {
     "name": "stdout",
     "output_type": "stream",
     "text": [
      "(7, 2)\n"
     ]
    }
   ],
   "source": [
    "# checking the shape, which is the nubmer of records and columns\n",
    "print(df.shape)"
   ]
  },
  {
   "cell_type": "code",
   "execution_count": 13,
   "id": "d83a828d",
   "metadata": {},
   "outputs": [
    {
     "data": {
      "text/html": [
       "<div>\n",
       "<style scoped>\n",
       "    .dataframe tbody tr th:only-of-type {\n",
       "        vertical-align: middle;\n",
       "    }\n",
       "\n",
       "    .dataframe tbody tr th {\n",
       "        vertical-align: top;\n",
       "    }\n",
       "\n",
       "    .dataframe thead th {\n",
       "        text-align: right;\n",
       "    }\n",
       "</style>\n",
       "<table border=\"1\" class=\"dataframe\">\n",
       "  <thead>\n",
       "    <tr style=\"text-align: right;\">\n",
       "      <th></th>\n",
       "      <th>ages</th>\n",
       "    </tr>\n",
       "  </thead>\n",
       "  <tbody>\n",
       "    <tr>\n",
       "      <th>count</th>\n",
       "      <td>7.000000</td>\n",
       "    </tr>\n",
       "    <tr>\n",
       "      <th>mean</th>\n",
       "      <td>26.000000</td>\n",
       "    </tr>\n",
       "    <tr>\n",
       "      <th>std</th>\n",
       "      <td>6.531973</td>\n",
       "    </tr>\n",
       "    <tr>\n",
       "      <th>min</th>\n",
       "      <td>18.000000</td>\n",
       "    </tr>\n",
       "    <tr>\n",
       "      <th>25%</th>\n",
       "      <td>21.000000</td>\n",
       "    </tr>\n",
       "    <tr>\n",
       "      <th>50%</th>\n",
       "      <td>25.000000</td>\n",
       "    </tr>\n",
       "    <tr>\n",
       "      <th>75%</th>\n",
       "      <td>31.000000</td>\n",
       "    </tr>\n",
       "    <tr>\n",
       "      <th>max</th>\n",
       "      <td>35.000000</td>\n",
       "    </tr>\n",
       "  </tbody>\n",
       "</table>\n",
       "</div>"
      ],
      "text/plain": [
       "            ages\n",
       "count   7.000000\n",
       "mean   26.000000\n",
       "std     6.531973\n",
       "min    18.000000\n",
       "25%    21.000000\n",
       "50%    25.000000\n",
       "75%    31.000000\n",
       "max    35.000000"
      ]
     },
     "execution_count": 13,
     "metadata": {},
     "output_type": "execute_result"
    }
   ],
   "source": [
    "# checkingthe general statistics of the DataFrame using .describe(), only works on numerical columns\n",
    "df.describe()"
   ]
  },
  {
   "cell_type": "code",
   "execution_count": 14,
   "id": "813ec9f9",
   "metadata": {},
   "outputs": [
    {
     "data": {
      "text/html": [
       "<div>\n",
       "<style scoped>\n",
       "    .dataframe tbody tr th:only-of-type {\n",
       "        vertical-align: middle;\n",
       "    }\n",
       "\n",
       "    .dataframe tbody tr th {\n",
       "        vertical-align: top;\n",
       "    }\n",
       "\n",
       "    .dataframe thead th {\n",
       "        text-align: right;\n",
       "    }\n",
       "</style>\n",
       "<table border=\"1\" class=\"dataframe\">\n",
       "  <thead>\n",
       "    <tr style=\"text-align: right;\">\n",
       "      <th></th>\n",
       "      <th>names</th>\n",
       "      <th>ages</th>\n",
       "    </tr>\n",
       "  </thead>\n",
       "  <tbody>\n",
       "    <tr>\n",
       "      <th>6</th>\n",
       "      <td>Rebecca</td>\n",
       "      <td>18</td>\n",
       "    </tr>\n",
       "    <tr>\n",
       "      <th>5</th>\n",
       "      <td>Tyler</td>\n",
       "      <td>20</td>\n",
       "    </tr>\n",
       "    <tr>\n",
       "      <th>2</th>\n",
       "      <td>Sandy</td>\n",
       "      <td>22</td>\n",
       "    </tr>\n",
       "    <tr>\n",
       "      <th>0</th>\n",
       "      <td>Jess</td>\n",
       "      <td>25</td>\n",
       "    </tr>\n",
       "    <tr>\n",
       "      <th>3</th>\n",
       "      <td>Ted</td>\n",
       "      <td>29</td>\n",
       "    </tr>\n",
       "  </tbody>\n",
       "</table>\n",
       "</div>"
      ],
      "text/plain": [
       "     names  ages\n",
       "6  Rebecca    18\n",
       "5    Tyler    20\n",
       "2    Sandy    22\n",
       "0     Jess    25\n",
       "3      Ted    29"
      ]
     },
     "execution_count": 14,
     "metadata": {},
     "output_type": "execute_result"
    }
   ],
   "source": [
    "# sort based on a given column, but keep the DataFrame in tact using sort_values()\n",
    "df = df.sort_values(\"ages\")\n",
    "df.head(5)"
   ]
  },
  {
   "cell_type": "code",
   "execution_count": 15,
   "id": "d2dc14fd",
   "metadata": {},
   "outputs": [
    {
     "name": "stdout",
     "output_type": "stream",
     "text": [
      "6    False\n",
      "5    False\n",
      "2     True\n",
      "0     True\n",
      "3     True\n",
      "4     True\n",
      "1     True\n",
      "Name: ages, dtype: bool\n"
     ]
    }
   ],
   "source": [
    "# using a conditional to create a true/flase column to work with\n",
    "can_drink = df[\"ages\"] > 21\n",
    "print(can_drink)"
   ]
  },
  {
   "cell_type": "code",
   "execution_count": 16,
   "id": "4050f86a",
   "metadata": {},
   "outputs": [
    {
     "data": {
      "text/html": [
       "<div>\n",
       "<style scoped>\n",
       "    .dataframe tbody tr th:only-of-type {\n",
       "        vertical-align: middle;\n",
       "    }\n",
       "\n",
       "    .dataframe tbody tr th {\n",
       "        vertical-align: top;\n",
       "    }\n",
       "\n",
       "    .dataframe thead th {\n",
       "        text-align: right;\n",
       "    }\n",
       "</style>\n",
       "<table border=\"1\" class=\"dataframe\">\n",
       "  <thead>\n",
       "    <tr style=\"text-align: right;\">\n",
       "      <th></th>\n",
       "      <th>names</th>\n",
       "      <th>ages</th>\n",
       "    </tr>\n",
       "  </thead>\n",
       "  <tbody>\n",
       "    <tr>\n",
       "      <th>2</th>\n",
       "      <td>Sandy</td>\n",
       "      <td>22</td>\n",
       "    </tr>\n",
       "    <tr>\n",
       "      <th>0</th>\n",
       "      <td>Jess</td>\n",
       "      <td>25</td>\n",
       "    </tr>\n",
       "    <tr>\n",
       "      <th>3</th>\n",
       "      <td>Ted</td>\n",
       "      <td>29</td>\n",
       "    </tr>\n",
       "    <tr>\n",
       "      <th>4</th>\n",
       "      <td>Barney</td>\n",
       "      <td>33</td>\n",
       "    </tr>\n",
       "    <tr>\n",
       "      <th>1</th>\n",
       "      <td>Jordan</td>\n",
       "      <td>35</td>\n",
       "    </tr>\n",
       "  </tbody>\n",
       "</table>\n",
       "</div>"
      ],
      "text/plain": [
       "    names  ages\n",
       "2   Sandy    22\n",
       "0    Jess    25\n",
       "3     Ted    29\n",
       "4  Barney    33\n",
       "1  Jordan    35"
      ]
     },
     "execution_count": 16,
     "metadata": {},
     "output_type": "execute_result"
    }
   ],
   "source": [
    "# using subsetting to filter out records and keep DataFrame intact\n",
    "df[df[\"ages\"] > 21]"
   ]
  },
  {
   "cell_type": "code",
   "execution_count": 17,
   "id": "521c9d79",
   "metadata": {},
   "outputs": [
    {
     "data": {
      "text/html": [
       "<div>\n",
       "<style scoped>\n",
       "    .dataframe tbody tr th:only-of-type {\n",
       "        vertical-align: middle;\n",
       "    }\n",
       "\n",
       "    .dataframe tbody tr th {\n",
       "        vertical-align: top;\n",
       "    }\n",
       "\n",
       "    .dataframe thead th {\n",
       "        text-align: right;\n",
       "    }\n",
       "</style>\n",
       "<table border=\"1\" class=\"dataframe\">\n",
       "  <thead>\n",
       "    <tr style=\"text-align: right;\">\n",
       "      <th></th>\n",
       "      <th>names</th>\n",
       "      <th>ages</th>\n",
       "      <th>tenure</th>\n",
       "    </tr>\n",
       "  </thead>\n",
       "  <tbody>\n",
       "    <tr>\n",
       "      <th>6</th>\n",
       "      <td>Rebecca</td>\n",
       "      <td>18</td>\n",
       "      <td>4</td>\n",
       "    </tr>\n",
       "    <tr>\n",
       "      <th>5</th>\n",
       "      <td>Tyler</td>\n",
       "      <td>20</td>\n",
       "      <td>6</td>\n",
       "    </tr>\n",
       "    <tr>\n",
       "      <th>2</th>\n",
       "      <td>Sandy</td>\n",
       "      <td>22</td>\n",
       "      <td>2</td>\n",
       "    </tr>\n",
       "    <tr>\n",
       "      <th>0</th>\n",
       "      <td>Jess</td>\n",
       "      <td>25</td>\n",
       "      <td>5</td>\n",
       "    </tr>\n",
       "    <tr>\n",
       "      <th>3</th>\n",
       "      <td>Ted</td>\n",
       "      <td>29</td>\n",
       "      <td>8</td>\n",
       "    </tr>\n",
       "  </tbody>\n",
       "</table>\n",
       "</div>"
      ],
      "text/plain": [
       "     names  ages  tenure\n",
       "6  Rebecca    18       4\n",
       "5    Tyler    20       6\n",
       "2    Sandy    22       2\n",
       "0     Jess    25       5\n",
       "3      Ted    29       8"
      ]
     },
     "execution_count": 17,
     "metadata": {},
     "output_type": "execute_result"
    }
   ],
   "source": [
    "# generating a new column of fake data for each record in the DataFrame to represent customer tenure\n",
    "random.seed(321)\n",
    "tenure = [random.randint(0, 10) for x in range(len(df))]\n",
    "df[\"tenure\"] = tenure\n",
    "df.head()"
   ]
  },
  {
   "cell_type": "code",
   "execution_count": 18,
   "id": "5eb94b64",
   "metadata": {},
   "outputs": [
    {
     "data": {
      "text/html": [
       "<div>\n",
       "<style scoped>\n",
       "    .dataframe tbody tr th:only-of-type {\n",
       "        vertical-align: middle;\n",
       "    }\n",
       "\n",
       "    .dataframe tbody tr th {\n",
       "        vertical-align: top;\n",
       "    }\n",
       "\n",
       "    .dataframe thead th {\n",
       "        text-align: right;\n",
       "    }\n",
       "</style>\n",
       "<table border=\"1\" class=\"dataframe\">\n",
       "  <thead>\n",
       "    <tr style=\"text-align: right;\">\n",
       "      <th></th>\n",
       "      <th>names</th>\n",
       "      <th>ages</th>\n",
       "      <th>tenure</th>\n",
       "      <th>age_group</th>\n",
       "    </tr>\n",
       "  </thead>\n",
       "  <tbody>\n",
       "    <tr>\n",
       "      <th>6</th>\n",
       "      <td>Rebecca</td>\n",
       "      <td>18</td>\n",
       "      <td>4</td>\n",
       "      <td>Teenager</td>\n",
       "    </tr>\n",
       "    <tr>\n",
       "      <th>5</th>\n",
       "      <td>Tyler</td>\n",
       "      <td>20</td>\n",
       "      <td>6</td>\n",
       "      <td>Teenager</td>\n",
       "    </tr>\n",
       "    <tr>\n",
       "      <th>2</th>\n",
       "      <td>Sandy</td>\n",
       "      <td>22</td>\n",
       "      <td>2</td>\n",
       "      <td>Adult</td>\n",
       "    </tr>\n",
       "    <tr>\n",
       "      <th>0</th>\n",
       "      <td>Jess</td>\n",
       "      <td>25</td>\n",
       "      <td>5</td>\n",
       "      <td>Adult</td>\n",
       "    </tr>\n",
       "    <tr>\n",
       "      <th>3</th>\n",
       "      <td>Ted</td>\n",
       "      <td>29</td>\n",
       "      <td>8</td>\n",
       "      <td>Adult</td>\n",
       "    </tr>\n",
       "    <tr>\n",
       "      <th>4</th>\n",
       "      <td>Barney</td>\n",
       "      <td>33</td>\n",
       "      <td>7</td>\n",
       "      <td>Adult</td>\n",
       "    </tr>\n",
       "    <tr>\n",
       "      <th>1</th>\n",
       "      <td>Jordan</td>\n",
       "      <td>35</td>\n",
       "      <td>5</td>\n",
       "      <td>Adult</td>\n",
       "    </tr>\n",
       "  </tbody>\n",
       "</table>\n",
       "</div>"
      ],
      "text/plain": [
       "     names  ages  tenure age_group\n",
       "6  Rebecca    18       4  Teenager\n",
       "5    Tyler    20       6  Teenager\n",
       "2    Sandy    22       2     Adult\n",
       "0     Jess    25       5     Adult\n",
       "3      Ted    29       8     Adult\n",
       "4   Barney    33       7     Adult\n",
       "1   Jordan    35       5     Adult"
      ]
     },
     "execution_count": 18,
     "metadata": {},
     "output_type": "execute_result"
    }
   ],
   "source": [
    "# feature engineering a new column from known data using a UDF\n",
    "def ageGroup(age):\n",
    "    return \"Teenager\" if age < 21 else \"Adult\"\n",
    "df[\"age_group\"] = df[\"ages\"].apply(ageGroup)\n",
    "df.head(10)"
   ]
  },
  {
   "cell_type": "code",
   "execution_count": 19,
   "id": "50eaa7df",
   "metadata": {},
   "outputs": [
    {
     "data": {
      "text/html": [
       "<div>\n",
       "<style scoped>\n",
       "    .dataframe tbody tr th:only-of-type {\n",
       "        vertical-align: middle;\n",
       "    }\n",
       "\n",
       "    .dataframe tbody tr th {\n",
       "        vertical-align: top;\n",
       "    }\n",
       "\n",
       "    .dataframe thead th {\n",
       "        text-align: right;\n",
       "    }\n",
       "</style>\n",
       "<table border=\"1\" class=\"dataframe\">\n",
       "  <thead>\n",
       "    <tr style=\"text-align: right;\">\n",
       "      <th></th>\n",
       "      <th>age_group</th>\n",
       "      <th>names</th>\n",
       "      <th>ages</th>\n",
       "      <th>tenure</th>\n",
       "    </tr>\n",
       "  </thead>\n",
       "  <tbody>\n",
       "    <tr>\n",
       "      <th>0</th>\n",
       "      <td>Adult</td>\n",
       "      <td>5</td>\n",
       "      <td>5</td>\n",
       "      <td>5</td>\n",
       "    </tr>\n",
       "    <tr>\n",
       "      <th>1</th>\n",
       "      <td>Teenager</td>\n",
       "      <td>2</td>\n",
       "      <td>2</td>\n",
       "      <td>2</td>\n",
       "    </tr>\n",
       "  </tbody>\n",
       "</table>\n",
       "</div>"
      ],
      "text/plain": [
       "  age_group  names  ages  tenure\n",
       "0     Adult      5     5       5\n",
       "1  Teenager      2     2       2"
      ]
     },
     "execution_count": 19,
     "metadata": {},
     "output_type": "execute_result"
    }
   ],
   "source": [
    "# grouping the records together to count how many records in each group\n",
    "df.groupby(\"age_group\", as_index=False).count().head()"
   ]
  },
  {
   "cell_type": "code",
   "execution_count": 20,
   "id": "31c46783",
   "metadata": {},
   "outputs": [
    {
     "data": {
      "text/html": [
       "<div>\n",
       "<style scoped>\n",
       "    .dataframe tbody tr th:only-of-type {\n",
       "        vertical-align: middle;\n",
       "    }\n",
       "\n",
       "    .dataframe tbody tr th {\n",
       "        vertical-align: top;\n",
       "    }\n",
       "\n",
       "    .dataframe thead th {\n",
       "        text-align: right;\n",
       "    }\n",
       "</style>\n",
       "<table border=\"1\" class=\"dataframe\">\n",
       "  <thead>\n",
       "    <tr style=\"text-align: right;\">\n",
       "      <th></th>\n",
       "      <th>age_group</th>\n",
       "      <th>ages</th>\n",
       "      <th>tenure</th>\n",
       "    </tr>\n",
       "  </thead>\n",
       "  <tbody>\n",
       "    <tr>\n",
       "      <th>0</th>\n",
       "      <td>Adult</td>\n",
       "      <td>28.8</td>\n",
       "      <td>5.4</td>\n",
       "    </tr>\n",
       "    <tr>\n",
       "      <th>1</th>\n",
       "      <td>Teenager</td>\n",
       "      <td>19.0</td>\n",
       "      <td>5.0</td>\n",
       "    </tr>\n",
       "  </tbody>\n",
       "</table>\n",
       "</div>"
      ],
      "text/plain": [
       "  age_group  ages  tenure\n",
       "0     Adult  28.8     5.4\n",
       "1  Teenager  19.0     5.0"
      ]
     },
     "execution_count": 20,
     "metadata": {},
     "output_type": "execute_result"
    }
   ],
   "source": [
    "# grouping the data to see averages of all columns\n",
    "df.groupby(\"age_group\", as_index=False).mean().head()"
   ]
  },
  {
   "cell_type": "code",
   "execution_count": 21,
   "id": "90cf8657",
   "metadata": {},
   "outputs": [
    {
     "data": {
      "text/html": [
       "<div>\n",
       "<style scoped>\n",
       "    .dataframe tbody tr th:only-of-type {\n",
       "        vertical-align: middle;\n",
       "    }\n",
       "\n",
       "    .dataframe tbody tr th {\n",
       "        vertical-align: top;\n",
       "    }\n",
       "\n",
       "    .dataframe thead th {\n",
       "        text-align: right;\n",
       "    }\n",
       "</style>\n",
       "<table border=\"1\" class=\"dataframe\">\n",
       "  <thead>\n",
       "    <tr style=\"text-align: right;\">\n",
       "      <th></th>\n",
       "      <th>age_group</th>\n",
       "      <th>tenure</th>\n",
       "      <th>names</th>\n",
       "      <th>ages</th>\n",
       "    </tr>\n",
       "  </thead>\n",
       "  <tbody>\n",
       "    <tr>\n",
       "      <th>0</th>\n",
       "      <td>Adult</td>\n",
       "      <td>2</td>\n",
       "      <td>1</td>\n",
       "      <td>1</td>\n",
       "    </tr>\n",
       "    <tr>\n",
       "      <th>1</th>\n",
       "      <td>Adult</td>\n",
       "      <td>5</td>\n",
       "      <td>2</td>\n",
       "      <td>2</td>\n",
       "    </tr>\n",
       "    <tr>\n",
       "      <th>2</th>\n",
       "      <td>Adult</td>\n",
       "      <td>7</td>\n",
       "      <td>1</td>\n",
       "      <td>1</td>\n",
       "    </tr>\n",
       "    <tr>\n",
       "      <th>3</th>\n",
       "      <td>Adult</td>\n",
       "      <td>8</td>\n",
       "      <td>1</td>\n",
       "      <td>1</td>\n",
       "    </tr>\n",
       "    <tr>\n",
       "      <th>4</th>\n",
       "      <td>Teenager</td>\n",
       "      <td>4</td>\n",
       "      <td>1</td>\n",
       "      <td>1</td>\n",
       "    </tr>\n",
       "    <tr>\n",
       "      <th>5</th>\n",
       "      <td>Teenager</td>\n",
       "      <td>6</td>\n",
       "      <td>1</td>\n",
       "      <td>1</td>\n",
       "    </tr>\n",
       "  </tbody>\n",
       "</table>\n",
       "</div>"
      ],
      "text/plain": [
       "  age_group  tenure  names  ages\n",
       "0     Adult       2      1     1\n",
       "1     Adult       5      2     2\n",
       "2     Adult       7      1     1\n",
       "3     Adult       8      1     1\n",
       "4  Teenager       4      1     1\n",
       "5  Teenager       6      1     1"
      ]
     },
     "execution_count": 21,
     "metadata": {},
     "output_type": "execute_result"
    }
   ],
   "source": [
    "# grouping information by their age group, then by their tenure\n",
    "df.groupby([\"age_group\", \"tenure\"], as_index=False).count().head(10)"
   ]
  },
  {
   "cell_type": "code",
   "execution_count": 23,
   "id": "eaeb429d",
   "metadata": {},
   "outputs": [
    {
     "data": {
      "text/html": [
       "<div>\n",
       "<style scoped>\n",
       "    .dataframe tbody tr th:only-of-type {\n",
       "        vertical-align: middle;\n",
       "    }\n",
       "\n",
       "    .dataframe tbody tr th {\n",
       "        vertical-align: top;\n",
       "    }\n",
       "\n",
       "    .dataframe thead th {\n",
       "        text-align: right;\n",
       "    }\n",
       "</style>\n",
       "<table border=\"1\" class=\"dataframe\">\n",
       "  <thead>\n",
       "    <tr style=\"text-align: right;\">\n",
       "      <th></th>\n",
       "      <th>names</th>\n",
       "      <th>ages</th>\n",
       "      <th>tenure</th>\n",
       "      <th>age_group</th>\n",
       "    </tr>\n",
       "  </thead>\n",
       "  <tbody>\n",
       "    <tr>\n",
       "      <th>6</th>\n",
       "      <td>Rebecca</td>\n",
       "      <td>18</td>\n",
       "      <td>4</td>\n",
       "      <td>Teenager</td>\n",
       "    </tr>\n",
       "    <tr>\n",
       "      <th>5</th>\n",
       "      <td>Tyler</td>\n",
       "      <td>20</td>\n",
       "      <td>6</td>\n",
       "      <td>Teenager</td>\n",
       "    </tr>\n",
       "    <tr>\n",
       "      <th>2</th>\n",
       "      <td>Sandy</td>\n",
       "      <td>22</td>\n",
       "      <td>2</td>\n",
       "      <td>Adult</td>\n",
       "    </tr>\n",
       "    <tr>\n",
       "      <th>0</th>\n",
       "      <td>Jess</td>\n",
       "      <td>25</td>\n",
       "      <td>5</td>\n",
       "      <td>Adult</td>\n",
       "    </tr>\n",
       "    <tr>\n",
       "      <th>3</th>\n",
       "      <td>Ted</td>\n",
       "      <td>29</td>\n",
       "      <td>8</td>\n",
       "      <td>Adult</td>\n",
       "    </tr>\n",
       "    <tr>\n",
       "      <th>4</th>\n",
       "      <td>Barney</td>\n",
       "      <td>33</td>\n",
       "      <td>7</td>\n",
       "      <td>Adult</td>\n",
       "    </tr>\n",
       "    <tr>\n",
       "      <th>1</th>\n",
       "      <td>Jordan</td>\n",
       "      <td>35</td>\n",
       "      <td>5</td>\n",
       "      <td>Adult</td>\n",
       "    </tr>\n",
       "    <tr>\n",
       "      <th>7</th>\n",
       "      <td>Jess</td>\n",
       "      <td>25</td>\n",
       "      <td>2</td>\n",
       "      <td>Adult</td>\n",
       "    </tr>\n",
       "  </tbody>\n",
       "</table>\n",
       "</div>"
      ],
      "text/plain": [
       "     names ages  tenure age_group\n",
       "6  Rebecca   18       4  Teenager\n",
       "5    Tyler   20       6  Teenager\n",
       "2    Sandy   22       2     Adult\n",
       "0     Jess   25       5     Adult\n",
       "3      Ted   29       8     Adult\n",
       "4   Barney   33       7     Adult\n",
       "1   Jordan   35       5     Adult\n",
       "7     Jess   25       2     Adult"
      ]
     },
     "execution_count": 23,
     "metadata": {},
     "output_type": "execute_result"
    }
   ],
   "source": [
    "# adding a record to the bottom of the DataFrame\n",
    "df.loc[7] = [\"Jess\", 25, 2, \"Adult\"]\n",
    "df.head(10)"
   ]
  },
  {
   "cell_type": "code",
   "execution_count": 24,
   "id": "c9e8537f",
   "metadata": {},
   "outputs": [
    {
     "data": {
      "text/html": [
       "<div>\n",
       "<style scoped>\n",
       "    .dataframe tbody tr th:only-of-type {\n",
       "        vertical-align: middle;\n",
       "    }\n",
       "\n",
       "    .dataframe tbody tr th {\n",
       "        vertical-align: top;\n",
       "    }\n",
       "\n",
       "    .dataframe thead th {\n",
       "        text-align: right;\n",
       "    }\n",
       "</style>\n",
       "<table border=\"1\" class=\"dataframe\">\n",
       "  <thead>\n",
       "    <tr style=\"text-align: right;\">\n",
       "      <th></th>\n",
       "      <th>names</th>\n",
       "      <th>ages</th>\n",
       "      <th>tenure</th>\n",
       "      <th>age_group</th>\n",
       "    </tr>\n",
       "  </thead>\n",
       "  <tbody>\n",
       "    <tr>\n",
       "      <th>6</th>\n",
       "      <td>Rebecca</td>\n",
       "      <td>18</td>\n",
       "      <td>4</td>\n",
       "      <td>Teenager</td>\n",
       "    </tr>\n",
       "    <tr>\n",
       "      <th>5</th>\n",
       "      <td>Tyler</td>\n",
       "      <td>20</td>\n",
       "      <td>6</td>\n",
       "      <td>Teenager</td>\n",
       "    </tr>\n",
       "    <tr>\n",
       "      <th>2</th>\n",
       "      <td>Sandy</td>\n",
       "      <td>22</td>\n",
       "      <td>2</td>\n",
       "      <td>Adult</td>\n",
       "    </tr>\n",
       "    <tr>\n",
       "      <th>0</th>\n",
       "      <td>Jess</td>\n",
       "      <td>25</td>\n",
       "      <td>5</td>\n",
       "      <td>Adult</td>\n",
       "    </tr>\n",
       "    <tr>\n",
       "      <th>3</th>\n",
       "      <td>Ted</td>\n",
       "      <td>29</td>\n",
       "      <td>8</td>\n",
       "      <td>Adult</td>\n",
       "    </tr>\n",
       "    <tr>\n",
       "      <th>4</th>\n",
       "      <td>Barney</td>\n",
       "      <td>33</td>\n",
       "      <td>7</td>\n",
       "      <td>Adult</td>\n",
       "    </tr>\n",
       "    <tr>\n",
       "      <th>1</th>\n",
       "      <td>Jordan</td>\n",
       "      <td>35</td>\n",
       "      <td>5</td>\n",
       "      <td>Adult</td>\n",
       "    </tr>\n",
       "  </tbody>\n",
       "</table>\n",
       "</div>"
      ],
      "text/plain": [
       "     names ages  tenure age_group\n",
       "6  Rebecca   18       4  Teenager\n",
       "5    Tyler   20       6  Teenager\n",
       "2    Sandy   22       2     Adult\n",
       "0     Jess   25       5     Adult\n",
       "3      Ted   29       8     Adult\n",
       "4   Barney   33       7     Adult\n",
       "1   Jordan   35       5     Adult"
      ]
     },
     "execution_count": 24,
     "metadata": {},
     "output_type": "execute_result"
    }
   ],
   "source": [
    "# removing duplicates based on same names\n",
    "df = df.drop_duplicates(subset=\"names\")\n",
    "df.head(10)"
   ]
  },
  {
   "cell_type": "code",
   "execution_count": 25,
   "id": "2e8e9105",
   "metadata": {},
   "outputs": [
    {
     "data": {
      "text/html": [
       "<div>\n",
       "<style scoped>\n",
       "    .dataframe tbody tr th:only-of-type {\n",
       "        vertical-align: middle;\n",
       "    }\n",
       "\n",
       "    .dataframe tbody tr th {\n",
       "        vertical-align: top;\n",
       "    }\n",
       "\n",
       "    .dataframe thead th {\n",
       "        text-align: right;\n",
       "    }\n",
       "</style>\n",
       "<table border=\"1\" class=\"dataframe\">\n",
       "  <thead>\n",
       "    <tr style=\"text-align: right;\">\n",
       "      <th></th>\n",
       "      <th>names</th>\n",
       "      <th>ratings</th>\n",
       "    </tr>\n",
       "  </thead>\n",
       "  <tbody>\n",
       "    <tr>\n",
       "      <th>0</th>\n",
       "      <td>Jess</td>\n",
       "      <td>10</td>\n",
       "    </tr>\n",
       "    <tr>\n",
       "      <th>1</th>\n",
       "      <td>Tyler</td>\n",
       "      <td>9</td>\n",
       "    </tr>\n",
       "    <tr>\n",
       "      <th>2</th>\n",
       "      <td>Ted</td>\n",
       "      <td>6</td>\n",
       "    </tr>\n",
       "  </tbody>\n",
       "</table>\n",
       "</div>"
      ],
      "text/plain": [
       "   names  ratings\n",
       "0   Jess       10\n",
       "1  Tyler        9\n",
       "2    Ted        6"
      ]
     },
     "execution_count": 25,
     "metadata": {},
     "output_type": "execute_result"
    }
   ],
   "source": [
    "# creating another fake DataFrame to work with, having same names and a new ratings column\n",
    "ratings = {\n",
    "    \"names\" : [\"Jess\", \"Tyler\", \"Ted\"],\n",
    "    \"ratings\" : [10, 9, 6]\n",
    "}\n",
    "ratings = df.from_dict(ratings)\n",
    "ratings.head()"
   ]
  },
  {
   "cell_type": "code",
   "execution_count": 27,
   "id": "56639cf0",
   "metadata": {},
   "outputs": [
    {
     "data": {
      "text/html": [
       "<div>\n",
       "<style scoped>\n",
       "    .dataframe tbody tr th:only-of-type {\n",
       "        vertical-align: middle;\n",
       "    }\n",
       "\n",
       "    .dataframe tbody tr th {\n",
       "        vertical-align: top;\n",
       "    }\n",
       "\n",
       "    .dataframe thead th {\n",
       "        text-align: right;\n",
       "    }\n",
       "</style>\n",
       "<table border=\"1\" class=\"dataframe\">\n",
       "  <thead>\n",
       "    <tr style=\"text-align: right;\">\n",
       "      <th></th>\n",
       "      <th>names</th>\n",
       "      <th>ages</th>\n",
       "      <th>tenure</th>\n",
       "      <th>age_group</th>\n",
       "      <th>ratings</th>\n",
       "    </tr>\n",
       "  </thead>\n",
       "  <tbody>\n",
       "    <tr>\n",
       "      <th>0</th>\n",
       "      <td>Tyler</td>\n",
       "      <td>20</td>\n",
       "      <td>6</td>\n",
       "      <td>Teenager</td>\n",
       "      <td>9</td>\n",
       "    </tr>\n",
       "    <tr>\n",
       "      <th>1</th>\n",
       "      <td>Jess</td>\n",
       "      <td>25</td>\n",
       "      <td>5</td>\n",
       "      <td>Adult</td>\n",
       "      <td>10</td>\n",
       "    </tr>\n",
       "    <tr>\n",
       "      <th>2</th>\n",
       "      <td>Ted</td>\n",
       "      <td>29</td>\n",
       "      <td>8</td>\n",
       "      <td>Adult</td>\n",
       "      <td>6</td>\n",
       "    </tr>\n",
       "  </tbody>\n",
       "</table>\n",
       "</div>"
      ],
      "text/plain": [
       "   names ages  tenure age_group  ratings\n",
       "0  Tyler   20       6  Teenager        9\n",
       "1   Jess   25       5     Adult       10\n",
       "2    Ted   29       8     Adult        6"
      ]
     },
     "execution_count": 27,
     "metadata": {},
     "output_type": "execute_result"
    }
   ],
   "source": [
    "# performing an inner join with our df and ratings DataFrames based on names, get data that matches\n",
    "matched_ratings = df.merge(ratings, on=\"names\", how=\"inner\")\n",
    "matched_ratings.head()"
   ]
  },
  {
   "cell_type": "code",
   "execution_count": 28,
   "id": "ba0dc391",
   "metadata": {},
   "outputs": [
    {
     "data": {
      "text/html": [
       "<div>\n",
       "<style scoped>\n",
       "    .dataframe tbody tr th:only-of-type {\n",
       "        vertical-align: middle;\n",
       "    }\n",
       "\n",
       "    .dataframe tbody tr th {\n",
       "        vertical-align: top;\n",
       "    }\n",
       "\n",
       "    .dataframe thead th {\n",
       "        text-align: right;\n",
       "    }\n",
       "</style>\n",
       "<table border=\"1\" class=\"dataframe\">\n",
       "  <thead>\n",
       "    <tr style=\"text-align: right;\">\n",
       "      <th></th>\n",
       "      <th>names</th>\n",
       "      <th>ages</th>\n",
       "      <th>tenure</th>\n",
       "      <th>age_group</th>\n",
       "      <th>ratings</th>\n",
       "    </tr>\n",
       "  </thead>\n",
       "  <tbody>\n",
       "    <tr>\n",
       "      <th>0</th>\n",
       "      <td>Rebecca</td>\n",
       "      <td>18</td>\n",
       "      <td>4</td>\n",
       "      <td>Teenager</td>\n",
       "      <td>NaN</td>\n",
       "    </tr>\n",
       "    <tr>\n",
       "      <th>1</th>\n",
       "      <td>Tyler</td>\n",
       "      <td>20</td>\n",
       "      <td>6</td>\n",
       "      <td>Teenager</td>\n",
       "      <td>9.0</td>\n",
       "    </tr>\n",
       "    <tr>\n",
       "      <th>2</th>\n",
       "      <td>Sandy</td>\n",
       "      <td>22</td>\n",
       "      <td>2</td>\n",
       "      <td>Adult</td>\n",
       "      <td>NaN</td>\n",
       "    </tr>\n",
       "    <tr>\n",
       "      <th>3</th>\n",
       "      <td>Jess</td>\n",
       "      <td>25</td>\n",
       "      <td>5</td>\n",
       "      <td>Adult</td>\n",
       "      <td>10.0</td>\n",
       "    </tr>\n",
       "    <tr>\n",
       "      <th>4</th>\n",
       "      <td>Ted</td>\n",
       "      <td>29</td>\n",
       "      <td>8</td>\n",
       "      <td>Adult</td>\n",
       "      <td>6.0</td>\n",
       "    </tr>\n",
       "  </tbody>\n",
       "</table>\n",
       "</div>"
      ],
      "text/plain": [
       "     names ages  tenure age_group  ratings\n",
       "0  Rebecca   18       4  Teenager      NaN\n",
       "1    Tyler   20       6  Teenager      9.0\n",
       "2    Sandy   22       2     Adult      NaN\n",
       "3     Jess   25       5     Adult     10.0\n",
       "4      Ted   29       8     Adult      6.0"
      ]
     },
     "execution_count": 28,
     "metadata": {},
     "output_type": "execute_result"
    }
   ],
   "source": [
    "# performing an outer join with our df and ratings DataFrames based on names, get all data\n",
    "all_ratings = df.merge(ratings, on=\"names\", how=\"outer\")\n",
    "all_ratings.head()"
   ]
  },
  {
   "cell_type": "markdown",
   "id": "c7240877",
   "metadata": {},
   "source": [
    "# Matplotlib"
   ]
  },
  {
   "cell_type": "code",
   "execution_count": 5,
   "id": "58bcb0ec",
   "metadata": {},
   "outputs": [],
   "source": [
    "# importing the matplotlib library from matplotlib import\n",
    "from matplotlib import pyplot as plt"
   ]
  },
  {
   "cell_type": "code",
   "execution_count": 6,
   "id": "3b4d4cec",
   "metadata": {},
   "outputs": [
    {
     "data": {
      "image/png": "[encoded data removed]",
      "text/plain": [
       "<Figure size 432x288 with 1 Axes>"
      ]
     },
     "metadata": {
      "needs_background": "light"
     },
     "output_type": "display_data"
    }
   ],
   "source": [
    "# creating a line plot using x and y coord\n",
    "x, y = [1600, 1700, 1800, 1900, 2000], [0.2, 0.5, 1.1, 2.2, 7.7]\n",
    "plt.plot(x, y)\n",
    "plt.title(\"World Population Over Time\")\n",
    "plt.xlabel(\"Year\")\n",
    "plt.ylabel(\"Population (billions)\")\n",
    "plt.show()"
   ]
  },
  {
   "cell_type": "code",
   "execution_count": 7,
   "id": "b4be9739",
   "metadata": {},
   "outputs": [
    {
     "data": {
      "image/png": "[encoded data removed]",
      "text/plain": [
       "<Figure size 432x288 with 1 Axes>"
      ]
     },
     "metadata": {
      "needs_background": "light"
     },
     "output_type": "display_data"
    }
   ],
   "source": [
    "# creating a line plot with multiple lines\n",
    "x1, y1 = [1600, 1700, 1800, 1900, 2000], [0.2, 0.5, 1.1, 2.2, 7.7]\n",
    "x2, y2 = [1600, 1700, 1800, 1900, 2000], [1, 1, 2, 3, 4]\n",
    "plt.plot(x1, y1, \"rx-\", label=\"Actual\")\n",
    "plt.plot(x1, y2, \"bo--\", label=\"Fake\")\n",
    "plt.title(\"World Population Over Time\")\n",
    "plt.xlabel(\"Year\")\n",
    "plt.ylabel(\"Population (billions)\")\n",
    "plt.legend()\n",
    "plt.show()\n"
   ]
  },
  {
   "cell_type": "code",
   "execution_count": 8,
   "id": "3abf8b2e",
   "metadata": {},
   "outputs": [
    {
     "data": {
      "image/png": "[encoded data removed]",
      "text/plain": [
       "<Figure size 432x288 with 1 Axes>"
      ]
     },
     "metadata": {
      "needs_background": "light"
     },
     "output_type": "display_data"
    }
   ],
   "source": [
    "# creating a bar plot using x and y coords\n",
    "num_people, categories = [4, 8, 3, 6, 2], [\"Comedy\", \"Action\", \"Thriller\", \"Romance\", \"Horror\"]\n",
    "plt.bar(categories, num_people)\n",
    "plt.title(\"Favorite Movie Category\", fontsize=24)\n",
    "plt.xlabel(\"Category\", fontsize=16)\n",
    "plt.ylabel(\"# of People\", fontsize=16)\n",
    "plt.xticks(fontname=\"Fantasy\")\n",
    "plt.yticks(fontname=\"Fantasy\")\n",
    "plt.show()"
   ]
  },
  {
   "cell_type": "code",
   "execution_count": 10,
   "id": "9ea33fbc",
   "metadata": {},
   "outputs": [
    {
     "data": {
      "image/png": "[encoded data removed]",
      "text/plain": [
       "<Figure size 1080x576 with 1 Axes>"
      ]
     },
     "metadata": {
      "needs_background": "light"
     },
     "output_type": "display_data"
    }
   ],
   "source": [
    "# creating a box plot - showing height data for male-female\n",
    "males, females = [72, 68, 65, 77, 73, 71, 69], [60, 65, 68, 61, 63, 64]\n",
    "heights = [males, females]\n",
    "plt.figure(figsize=(15, 8))\n",
    "plt.boxplot(heights)\n",
    "plt.xticks([1, 2], [\"Male\", \"Female\"])\n",
    "plt.title(\"Height by Gender\", fontsize=22)\n",
    "plt.ylabel(\"Height (inches)\", fontsize=14)\n",
    "plt.xlabel(\"Gender\", fontsize=14)\n",
    "plt.show()"
   ]
  },
  {
   "cell_type": "code",
   "execution_count": 14,
   "id": "1151eeaf",
   "metadata": {},
   "outputs": [
    {
     "data": {
      "image/png": "[encoded data removed]",
      "text/plain": [
       "<Figure size 432x288 with 1 Axes>"
      ]
     },
     "metadata": {
      "needs_background": "light"
     },
     "output_type": "display_data"
    }
   ],
   "source": [
    "# creating a scatter plot to represent height-weight distribution\n",
    "import random\n",
    "from random import randint\n",
    "random.seed(2)\n",
    "height = [randint(58, 78) for x in range(20)]\n",
    "weight = [randint(90, 250) for x in range(20)]\n",
    "plt.scatter(weight, height)\n",
    "plt.title(\"Height-Weight Distribution\")\n",
    "plt.xlabel(\"Weight (lbs)\")\n",
    "plt.ylabel(\"Height (inches)\")\n",
    "plt.show()"
   ]
  },
  {
   "cell_type": "code",
   "execution_count": 15,
   "id": "b04c510a",
   "metadata": {},
   "outputs": [
    {
     "data": {
      "image/png": "[encoded data removed]",
      "text/plain": [
       "<Figure size 432x288 with 1 Axes>"
      ]
     },
     "metadata": {
      "needs_background": "light"
     },
     "output_type": "display_data"
    }
   ],
   "source": [
    "# creaing a histogram to show age data for a fake population\n",
    "import numpy as np\n",
    "np.random.seed(5)\n",
    "ages = [np.random.normal(loc=40, scale=10) for x in range(1000)]\n",
    "plt.hist(ages, bins=45)\n",
    "plt.title(\"Ages per Population\")\n",
    "plt.xlabel(\"Age\")\n",
    "plt.ylabel(\"# of People\")\n",
    "plt.show()"
   ]
  },
  {
   "cell_type": "code",
   "execution_count": 16,
   "id": "478c9686",
   "metadata": {},
   "outputs": [
    {
     "data": {
      "image/png": "[encoded data removed]",
      "text/plain": [
       "<Figure size 432x288 with 1 Axes>"
      ]
     },
     "metadata": {
      "needs_background": "light"
     },
     "output_type": "display_data"
    },
    {
     "data": {
      "image/png": "[encoded data removed]",
      "text/plain": [
       "<Figure size 432x288 with 1 Axes>"
      ]
     },
     "metadata": {
      "needs_background": "light"
     },
     "output_type": "display_data"
    },
    {
     "data": {
      "image/png": "[encoded data removed]",
      "text/plain": [
       "<Figure size 432x288 with 1 Axes>"
      ]
     },
     "metadata": {
      "needs_background": "light"
     },
     "output_type": "display_data"
    }
   ],
   "source": [
    "# showing the importance of histogram's to display central distribution\n",
    "\n",
    "florida = [ np.random.normal(loc=60, scale=15) for x in range(1000) ]\n",
    "california = [ np.random.normal(loc=35, scale=5) for x in range(1000) ]\n",
    "\n",
    "# chart 1\n",
    "plt.hist(florida, bins=45, color='r', alpha=0.4)\n",
    "plt.show()\n",
    "\n",
    "# chart 2\n",
    "plt.hist(california, bins=45, color='b', alpha=0.4)\n",
    "plt.show()\n",
    "\n",
    "\n",
    "# chart 3\n",
    "plt.hist(florida, bins=45, color='r', alpha=0.4)\n",
    "plt.hist(california, bins=45, color='b', alpha=0.4)\n",
    "plt.savefig('figure10-7.jpg')\n",
    "plt.show()"
   ]
  },
  {
   "cell_type": "code",
   "execution_count": 17,
   "id": "bca9abd7",
   "metadata": {},
   "outputs": [
    {
     "data": {
      "image/png": "[encoded data removed]",
      "text/plain": [
       "<Figure size 432x288 with 1 Axes>"
      ]
     },
     "metadata": {
      "needs_background": "light"
     },
     "output_type": "display_data"
    }
   ],
   "source": [
    "# using savefig method to save the chart as a jpg to the local folder\n",
    "x, y = [1600, 1700, 1800, 1900, 2000], [0.2, 0.5, 1.1, 2.2, 7.7]\n",
    "\n",
    "plt.plot(x, y, 'bo-')    # creates the line\n",
    "\n",
    "plt.title('World Population Over Time')\n",
    "plt.xlabel('Year')\n",
    "plt.ylabel('Population (billions)')\n",
    "\n",
    "plt.savefig(\"population.jpg\")"
   ]
  },
  {
   "cell_type": "code",
   "execution_count": 18,
   "id": "98b29b12",
   "metadata": {},
   "outputs": [
    {
     "data": {
      "image/png": "[encoded data removed]",
      "text/plain": [
       "<Figure size 432x288 with 2 Axes>"
      ]
     },
     "metadata": {
      "needs_background": "light"
     },
     "output_type": "display_data"
    }
   ],
   "source": [
    "# creating a scatter plot to represent height-weight distribution\n",
    "from random import randint\n",
    "random.seed(2)\n",
    "\n",
    "height = [ randint(58, 78) for x in range(20) ]   # 20 records between 4'10\" and 6'8\"\n",
    "weight = [ randint(90, 250) for x in range(20) ]  # 20 records between 90lbs. and 250lbs.\n",
    "age = [ randint(18, 65) for x in range(20) ]      # 20 records between 18 and 65 years old\n",
    "\n",
    "plt.scatter(weight, height, c=age)\n",
    "\n",
    "plt.title(\"Height-Weight Distribution\")\n",
    "plt.xlabel(\"Weight (lbs)\")\n",
    "plt.ylabel(\"Height (inches)\")\n",
    "plt.colorbar(label=\"Age\")      # adds color bar to right side\n",
    "\n",
    "plt.show()"
   ]
  },
  {
   "cell_type": "markdown",
   "id": "77038074",
   "metadata": {},
   "source": [
    "# Web Scraping"
   ]
  },
  {
   "cell_type": "code",
   "execution_count": 1,
   "id": "a51a5f46",
   "metadata": {},
   "outputs": [],
   "source": [
    "# importing the beautiful soup and requests library\n",
    "from bs4 import BeautifulSoup\n",
    "import requests"
   ]
  },
  {
   "cell_type": "code",
   "execution_count": 2,
   "id": "f7ce589b",
   "metadata": {},
   "outputs": [
    {
     "name": "stdout",
     "output_type": "stream",
     "text": [
      "<Response [200]>\n"
     ]
    }
   ],
   "source": [
    "# performing a request and outputting the status code\n",
    "page = requests.get(\"http://www.arthurleej.com/e-love.html\")\n",
    "print(page)"
   ]
  },
  {
   "cell_type": "code",
   "execution_count": 3,
   "id": "26b1e6c8",
   "metadata": {},
   "outputs": [
    {
     "name": "stdout",
     "output_type": "stream",
     "text": [
      "b'<!DOCTYPE HTML PUBLIC \"-//W3C//DTD HTML 3.2 Final//EN\">\\r<html>\\r<head>\\r\\t<title>Essay on Love by Arthur Lee Jacobson</title>\\r<meta name=\"description\" content=\"Trees,gardening, wild and domestic plant life are the specialty of author Arthur Lee Jacobson.\">\\r<meta name=\"keywords\" content=\"trees, gardening, wild plants, domestic plants, gardening author, gardening books, Arthur Lee Jacobson, A L J, A L Jacobson, Arthur Jacobson, arthur lee, plants, flowers, seattle, washington\">\\r<meta name=\"resource-type\" content=\"document\">\\r<meta name=\"generator\" content=\"BBEdit 4.5\">\\r<meta name=\"robots\" content=\"all\">\\r<meta name=\"classification\" content=\"Gardening\">\\r<meta name=\"distribution\" content=\"global\">\\r<meta name=\"rating\" content=\"general\">\\r<meta name=\"copyright\" content=\"2001 Arthur Lee Jacobson\">\\r<meta name=\"author\" content=\"eriktyme@eriktyme.com\">\\r<meta name=\"language\" content=\"en-us\">\\r</head>\\r<body background=\"images/background1a.jpg\" bgcolor=\"#FFFFCC\" text=\"#000000\" link=\"#0000FF\" alink=\"#33CC33\" vlink=\"#FF00FF\">\\r<! -- #include virtual=\"/includes/header.html\" -- >\\r<br><center><table border=\"0\" cellspacing=\"2\" cellpadding=\"1\">\\r\\t<tr>\\r\\t\\t<td width=\"480\" align=\"center\" valign=\"top\">\\r<table border=\"0\" cellspacing=\"2\" cellpadding=\"1\">\\r\\t<tr>\\r\\t\\t<td width=\"480\" align=\"center\" valign=\"top\"><font size=\"5\"><b>Love</b></font></td>\\r\\t</tr>\\r\\t<tr>\\r\\t\\t<td width=\"480\" align=\"left\" valign=\"top\"><font size=\"3\"><b>&nbsp;&nbsp;&nbsp;&nbsp;Of the fourteen essays I\\'m writing, only this one treats an emotion. That love is the most important emotion is the deduction. I think other emotions may be as important, but are not so powerfully moving or interesting to most of us. Love is exciting. There is no need to justify choosing to write about it. Are not most songs love songs? Are not most novels stories featuring love?</b></font></td>\\r\\t</tr>\\r\\t<tr>\\r\\t\\t<td width=\"480\" align=\"left\" valign=\"top\"><font size=\"3\"><b>&nbsp;&nbsp;&nbsp;&nbsp;Love in its broad sense is the feeling of strong attraction, and often attachment and protection. It is felt towards other people, towards pets, towards inanimate objects, towards abstractions such as patriotism, religious matters, hobbies, and I suppose nearly everything. It is multifaceted, and includes ordinary self-love, chivalrous love, carnal or sexual love, friendly love, family love. It is an emotion that is closely related to certain others, such as hope. At its simplest level it is what we strongly like.</b></font></td>\\r\\t</tr>\\r\\t<tr>\\r\\t\\t<td width=\"480\" align=\"left\" valign=\"top\"><font size=\"3\"><b>&nbsp;&nbsp;&nbsp;&nbsp;I have a hunch that love, like the rose, owes much of its appeal to our mainstream Western culture -- and that in some other societies it is by no means such a big deal. Somehow, especially in recent centuries, the notion of romantic love has become elevated far more than it used to be. Why this has happened is for social historians to explain; I don\\'t know. I will merely say that if one reads the ancient Greeks and Romans, then it is obvious that today love is relatively more significant in our culture. A plethora of differences exist between us and people 2,000 years ago. That doesn\\'t invalidate my observation that we moderns rate love more importantly now than our ancestors used to.</b></font></td>\\r\\t</tr>\\r\\t<tr>\\r\\t\\t<td width=\"480\" align=\"left\" valign=\"top\"><font size=\"3\"><b>&nbsp;&nbsp;&nbsp;&nbsp;It is presumed that sexual attraction, being instinctive, is comparatively constant over the centuries and across cultures. But let\\'s be clear: sexual attraction is only one manifestation of love. One can be sexually aroused and still feel no love, just as a couple can be married and possess no mutual sexual appetite or love. Some people find they can fulfill sexual needs one way, and they love something else, such as a hobby or their work.</b></font></td>\\r\\t</tr>\\r\\t<tr>\\r\\t\\t<td width=\"480\" align=\"left\" valign=\"top\"><font size=\"3\"><b>&nbsp;&nbsp;&nbsp;&nbsp;When sexual desire, or go ahead and call it sexual need, is very strong, it certainly gets called love. To be precise it may be best termed carnal love. Similarly, a glutton loves food, and an addict perversely loves whatever drug or activity he\\'s hooked on. Sexual love, then, is not necessarily anything more than an equivalent of an animal being in heat. On the other hand, if two people share a wholehearted, broad-based love for each other, then their sexual relations may be more an expression of their affection than of their instinctive drive.</b></font></td>\\r\\t</tr>\\r\\t<tr>\\r\\t\\t<td width=\"480\" align=\"left\" valign=\"top\"><font size=\"3\"><b>&nbsp;&nbsp;&nbsp;&nbsp;Yes, love and sex are too much confused. It is frightful how many beastly rapes and molestations take place, which are sexual but devoid of love completely. Love can be found thriving far from sex, as in a mother\\'s love for her child, or a religious order\\'s mystical love of doing glory to God, or of the knight\\'s chivalrous love towards his country and rulers. The soldier\\'s courage to defend his family is a kind of love in action. The artist who starves in an attic, living a celibate existence to produce masterpieces, is illuminated by love. Childhood friends who go through life together know love, though not sex, as regards each other. Have I made my point obvious?</b></font></td>\\r\\t</tr>\\r\\t<tr>\\r\\t\\t<td width=\"480\" align=\"left\" valign=\"top\"><font size=\"3\"><b>&nbsp;&nbsp;&nbsp;&nbsp;It is, I\\'m sure. But I\\'m on a roll and don\\'t want to stop yet. Love\\'s antithesis is hate. Hate is often associated with harm or destruction, even death. But again, it is not <i>equal</i> to those. It is strongly held negative emotions, even as love is strongly held positive ones.</b><br><br></font></td>\\r\\t</tr>\\r\\t<tr>\\r\\t\\t<td width=\"480\" align=\"left\" valign=\"top\"><font size=\"3\"><b>&nbsp;&nbsp;&nbsp;&nbsp;The golden rule, &quot;Love thy neighbor as thyself,&quot; or &quot;do unto others as you would have them do unto you,&quot; helps us see that if we want people to enjoy peaceful, content existence, we must work together cooperatively, and not let our passions, of either love or hate, get us out of line.</b></font></td>\\r\\t</tr>\\r\\t<tr>\\r\\t\\t<td width=\"480\" align=\"left\" valign=\"top\"><font size=\"3\"><b>&nbsp;&nbsp;&nbsp;&nbsp;One thing I\\'m sure of, is the world would be a better place if all of us individuals had someone or something we loved. I feel sorry for people who are neutral about this, indifferent regarding that, and don\\'t know what really turns them on. I almost wish there was a law against having no love in one\\'s life. Well, that kind of thinking is too extreme. Is it possible, without love, to be healthy in a mental sense? To be balanced? Can an individual\\'s self-esteem be proper without love? It is certainly possible for a person to be <i>temporarily</i> devoid of love. For example, pick up a random individual, transport him across the planet, and set him into a strange culture, where he knows no one, he knows not a word of the language. He will be in shock, and will love no one, and probably his only love then would be of longing for his familiar life. Temporarily, his shock, his sadness, and his bewilderment will be more powerful feelings than any love he feels.</b></font></td>\\r\\t</tr>\\r\\t<tr>\\r\\t\\t<td width=\"480\" align=\"left\" valign=\"top\"><font size=\"3\"><b>&nbsp;&nbsp;&nbsp;&nbsp;Since love can be felt in so many different ways, it is a good thing our culture allows people freedom to choose. All the more wondrous that some of us seem to love nothing! What explains this? Are children who were in dysfunctional, abusive situations forced to retreat as it were into a shell, to be calloused against freely opening themselves to the flow of their emotions? Are certain people born with chemical imbalances in their brains which make it impossible for them to feel love? Are some people so prone to liking numerous things that they tend to not strongly like (<i>i.e.,</i> love) any one thing in particular?</b></font></td>\\r\\t</tr>\\r\\t<tr>\\r\\t\\t<td width=\"480\" align=\"left\" valign=\"top\"><font size=\"3\"><b>&nbsp;&nbsp;&nbsp;&nbsp;To love is to express oneself. Usually one\\'s love is obviously manifested. It may be that even as some of us are generally shy and inhibited, some of us are poorer at loving. Doubtless there are complex, peculiar combinations of factors operating in every individual case. And most of our general rules or commonplace assumptions are based on behavior prevalent in our <i>culture.</i></b></font></td>\\r\\t</tr>\\r\\t<tr>\\r\\t\\t<td width=\"480\" align=\"left\" valign=\"top\"><font size=\"3\"><b>&nbsp;&nbsp;&nbsp;&nbsp;The chief motivating factor in many of our lives is love. People go to extraordinary lengths and costs to find love, or to give it, to keep it, to hope for it. In some cultures, such as primitive stone-age ones, I\\'m sure that basic food gathering and survival work is more dominating than any interpretation of love other than love of continuing to <i>live.</i></b></font></td>\\r\\t</tr>\\r\\t<tr>\\r\\t\\t<td width=\"480\" align=\"left\" valign=\"top\"><font size=\"3\"><b>&nbsp;&nbsp;&nbsp;&nbsp;In my life, I prefer to give my time to being with people I love, rather than being paid to spend time working for people whom I don\\'t love. Similarly, I would rather remain single and wait until I can marry a woman with whom I can share profound love, than cohabit with a woman about who I am indifferent. It is often said &quot;what really counts is that a person does what he or she loves.&quot; Yet how many of us <i>really</i> do? How many of us <i>would</i> keep doing our jobs if we didn\\'t need the money? Few of us. Even if I was suddenly rich financially, I\\'d still do most of what I do now; I\\'d not fundamentally change.</b></font></td>\\r\\t</tr>\\r\\t<tr>\\r\\t\\t<td width=\"480\" align=\"left\" valign=\"top\"><font size=\"3\"><b>&nbsp;&nbsp;&nbsp;&nbsp;No, money won\\'t alter me much. Love may. If I decide to marry a woman, and she is eager also, I would stop merely doing whatever I please, and start giving my attention equally to pleasing her. Ideally we\\'d work very well together. But times would occur when we\\'d disagree, so I\\'d yield whenever I possibly could, out of my love and respect, and concern for our marriage.</b></font></td>\\r\\t</tr>\\r\\t<tr>\\r\\t\\t<td width=\"480\" align=\"left\" valign=\"top\"><font size=\"3\"><b>&nbsp;&nbsp;&nbsp;&nbsp;The love that motivates people to give freely their very lives is greatly inspiring. If martyrs didn\\'t have love propelling them, then they at any rate had <i>strong</i> emotions. Sometimes I dream about hypothetical situations that test my love. For example, if the woman I think the very world of, asked me to give up my Seattle existence, to live with her 1,000 miles away -- would I do it? Maybe. If I figured there was good odds of living happily ever after, I might. But such questions are answered not just by deliberation, they\\'re affected by emotion. Love can blind us to logic, reason and common sense. I love so many things about my life in Seattle, and there are so many eligible women here  -- that the chance of me heading out of town, loveblind, is remote. But that I <i>think</i> about such things, shows I am moved mightily by love.</b></font></td>\\r\\t</tr>\\r\\t<tr>\\r\\t\\t<td width=\"480\" align=\"left\" valign=\"top\"><font size=\"3\"><b>&nbsp;&nbsp;&nbsp;&nbsp;I am so glad to love my work, to love my family and friends, to love my city, and to love nature. Yes, I want to also love a woman who loves me. That will come. So far it has alway been one-way rather than mutual. I\\'m particular, patient, and confident. It\\'s sort of a &quot;patting oneself on the back&quot; to say it, but I wish more people would show restraint about forming intimate relationships of the sort that are called marriages. Too many young folks hurry into such arrangements, and all too soon failure comes about. People think it\\'s easier than it really is. Loving is often easy, but the long-term nurturing and sustaining of the love is work. I develop this theme more in my essay FAMILY.</b></font></td>\\r\\t</tr>\\r\\t<tr>\\r\\r</table>\\r\\r</td>\\r\\t\\t<td width=\"125\" align=\"center\" valign=\"top\"><br><br><br><! -- #include virtual=\"/includes/panel1.html\" -- >\\r</td>\\r\\t</tr>\\r</table></center>\\r<! -- #include virtual=\"/includes/footer.html\" -- >\\r\\r</body>\\r</html>\\r'\n"
     ]
    }
   ],
   "source": [
    "# outputting teh request response content\n",
    "print(page.content)"
   ]
  },
  {
   "cell_type": "code",
   "execution_count": 4,
   "id": "fb1f5c6f",
   "metadata": {},
   "outputs": [
    {
     "name": "stdout",
     "output_type": "stream",
     "text": [
      "<!DOCTYPE HTML PUBLIC \"-//W3C//DTD HTML 3.2 Final//EN\">\n",
      "<html>\n",
      " <head>\n",
      "  <title>\n",
      "   Essay on Love by Arthur Lee Jacobson\n",
      "  </title>\n",
      "  <meta content=\"Trees,gardening, wild and domestic plant life are the specialty of author Arthur Lee Jacobson.\" name=\"description\"/>\n",
      "  <meta content=\"trees, gardening, wild plants, domestic plants, gardening author, gardening books, Arthur Lee Jacobson, A L J, A L Jacobson, Arthur Jacobson, arthur lee, plants, flowers, seattle, washington\" name=\"keywords\"/>\n",
      "  <meta content=\"document\" name=\"resource-type\"/>\n",
      "  <meta content=\"BBEdit 4.5\" name=\"generator\"/>\n",
      "  <meta content=\"all\" name=\"robots\"/>\n",
      "  <meta content=\"Gardening\" name=\"classification\"/>\n",
      "  <meta content=\"global\" name=\"distribution\"/>\n",
      "  <meta content=\"general\" name=\"rating\"/>\n",
      "  <meta content=\"2001 Arthur Lee Jacobson\" name=\"copyright\"/>\n",
      "  <meta content=\"eriktyme@eriktyme.com\" name=\"author\"/>\n",
      "  <meta content=\"en-us\" name=\"language\"/>\n",
      " </head>\n",
      " <body alink=\"#33CC33\" background=\"images/background1a.jpg\" bgcolor=\"#FFFFCC\" link=\"#0000FF\" text=\"#000000\" vlink=\"#FF00FF\">\n",
      "  <!-- -- #include virtual=\"/includes/header.html\" -- -->\n",
      "  <br/>\n",
      "  <center>\n",
      "   <table border=\"0\" cellpadding=\"1\" cellspacing=\"2\">\n",
      "    <tr>\n",
      "     <td align=\"center\" valign=\"top\" width=\"480\">\n",
      "      <table border=\"0\" cellpadding=\"1\" cellspacing=\"2\">\n",
      "       <tr>\n",
      "        <td align=\"center\" valign=\"top\" width=\"480\">\n",
      "         <font size=\"5\">\n",
      "          <b>\n",
      "           Love\n",
      "          </b>\n",
      "         </font>\n",
      "        </td>\n",
      "       </tr>\n",
      "       <tr>\n",
      "        <td align=\"left\" valign=\"top\" width=\"480\">\n",
      "         <font size=\"3\">\n",
      "          <b>\n",
      "           Of the fourteen essays I'm writing, only this one treats an emotion. That love is the most important emotion is the deduction. I think other emotions may be as important, but are not so powerfully moving or interesting to most of us. Love is exciting. There is no need to justify choosing to write about it. Are not most songs love songs? Are not most novels stories featuring love?\n",
      "          </b>\n",
      "         </font>\n",
      "        </td>\n",
      "       </tr>\n",
      "       <tr>\n",
      "        <td align=\"left\" valign=\"top\" width=\"480\">\n",
      "         <font size=\"3\">\n",
      "          <b>\n",
      "           Love in its broad sense is the feeling of strong attraction, and often attachment and protection. It is felt towards other people, towards pets, towards inanimate objects, towards abstractions such as patriotism, religious matters, hobbies, and I suppose nearly everything. It is multifaceted, and includes ordinary self-love, chivalrous love, carnal or sexual love, friendly love, family love. It is an emotion that is closely related to certain others, such as hope. At its simplest level it is what we strongly like.\n",
      "          </b>\n",
      "         </font>\n",
      "        </td>\n",
      "       </tr>\n",
      "       <tr>\n",
      "        <td align=\"left\" valign=\"top\" width=\"480\">\n",
      "         <font size=\"3\">\n",
      "          <b>\n",
      "           I have a hunch that love, like the rose, owes much of its appeal to our mainstream Western culture -- and that in some other societies it is by no means such a big deal. Somehow, especially in recent centuries, the notion of romantic love has become elevated far more than it used to be. Why this has happened is for social historians to explain; I don't know. I will merely say that if one reads the ancient Greeks and Romans, then it is obvious that today love is relatively more significant in our culture. A plethora of differences exist between us and people 2,000 years ago. That doesn't invalidate my observation that we moderns rate love more importantly now than our ancestors used to.\n",
      "          </b>\n",
      "         </font>\n",
      "        </td>\n",
      "       </tr>\n",
      "       <tr>\n",
      "        <td align=\"left\" valign=\"top\" width=\"480\">\n",
      "         <font size=\"3\">\n",
      "          <b>\n",
      "           It is presumed that sexual attraction, being instinctive, is comparatively constant over the centuries and across cultures. But let's be clear: sexual attraction is only one manifestation of love. One can be sexually aroused and still feel no love, just as a couple can be married and possess no mutual sexual appetite or love. Some people find they can fulfill sexual needs one way, and they love something else, such as a hobby or their work.\n",
      "          </b>\n",
      "         </font>\n",
      "        </td>\n",
      "       </tr>\n",
      "       <tr>\n",
      "        <td align=\"left\" valign=\"top\" width=\"480\">\n",
      "         <font size=\"3\">\n",
      "          <b>\n",
      "           When sexual desire, or go ahead and call it sexual need, is very strong, it certainly gets called love. To be precise it may be best termed carnal love. Similarly, a glutton loves food, and an addict perversely loves whatever drug or activity he's hooked on. Sexual love, then, is not necessarily anything more than an equivalent of an animal being in heat. On the other hand, if two people share a wholehearted, broad-based love for each other, then their sexual relations may be more an expression of their affection than of their instinctive drive.\n",
      "          </b>\n",
      "         </font>\n",
      "        </td>\n",
      "       </tr>\n",
      "       <tr>\n",
      "        <td align=\"left\" valign=\"top\" width=\"480\">\n",
      "         <font size=\"3\">\n",
      "          <b>\n",
      "           Yes, love and sex are too much confused. It is frightful how many beastly rapes and molestations take place, which are sexual but devoid of love completely. Love can be found thriving far from sex, as in a mother's love for her child, or a religious order's mystical love of doing glory to God, or of the knight's chivalrous love towards his country and rulers. The soldier's courage to defend his family is a kind of love in action. The artist who starves in an attic, living a celibate existence to produce masterpieces, is illuminated by love. Childhood friends who go through life together know love, though not sex, as regards each other. Have I made my point obvious?\n",
      "          </b>\n",
      "         </font>\n",
      "        </td>\n",
      "       </tr>\n",
      "       <tr>\n",
      "        <td align=\"left\" valign=\"top\" width=\"480\">\n",
      "         <font size=\"3\">\n",
      "          <b>\n",
      "           It is, I'm sure. But I'm on a roll and don't want to stop yet. Love's antithesis is hate. Hate is often associated with harm or destruction, even death. But again, it is not\n",
      "           <i>\n",
      "            equal\n",
      "           </i>\n",
      "           to those. It is strongly held negative emotions, even as love is strongly held positive ones.\n",
      "          </b>\n",
      "          <br/>\n",
      "          <br/>\n",
      "         </font>\n",
      "        </td>\n",
      "       </tr>\n",
      "       <tr>\n",
      "        <td align=\"left\" valign=\"top\" width=\"480\">\n",
      "         <font size=\"3\">\n",
      "          <b>\n",
      "           The golden rule, \"Love thy neighbor as thyself,\" or \"do unto others as you would have them do unto you,\" helps us see that if we want people to enjoy peaceful, content existence, we must work together cooperatively, and not let our passions, of either love or hate, get us out of line.\n",
      "          </b>\n",
      "         </font>\n",
      "        </td>\n",
      "       </tr>\n",
      "       <tr>\n",
      "        <td align=\"left\" valign=\"top\" width=\"480\">\n",
      "         <font size=\"3\">\n",
      "          <b>\n",
      "           One thing I'm sure of, is the world would be a better place if all of us individuals had someone or something we loved. I feel sorry for people who are neutral about this, indifferent regarding that, and don't know what really turns them on. I almost wish there was a law against having no love in one's life. Well, that kind of thinking is too extreme. Is it possible, without love, to be healthy in a mental sense? To be balanced? Can an individual's self-esteem be proper without love? It is certainly possible for a person to be\n",
      "           <i>\n",
      "            temporarily\n",
      "           </i>\n",
      "           devoid of love. For example, pick up a random individual, transport him across the planet, and set him into a strange culture, where he knows no one, he knows not a word of the language. He will be in shock, and will love no one, and probably his only love then would be of longing for his familiar life. Temporarily, his shock, his sadness, and his bewilderment will be more powerful feelings than any love he feels.\n",
      "          </b>\n",
      "         </font>\n",
      "        </td>\n",
      "       </tr>\n",
      "       <tr>\n",
      "        <td align=\"left\" valign=\"top\" width=\"480\">\n",
      "         <font size=\"3\">\n",
      "          <b>\n",
      "           Since love can be felt in so many different ways, it is a good thing our culture allows people freedom to choose. All the more wondrous that some of us seem to love nothing! What explains this? Are children who were in dysfunctional, abusive situations forced to retreat as it were into a shell, to be calloused against freely opening themselves to the flow of their emotions? Are certain people born with chemical imbalances in their brains which make it impossible for them to feel love? Are some people so prone to liking numerous things that they tend to not strongly like (\n",
      "           <i>\n",
      "            i.e.,\n",
      "           </i>\n",
      "           love) any one thing in particular?\n",
      "          </b>\n",
      "         </font>\n",
      "        </td>\n",
      "       </tr>\n",
      "       <tr>\n",
      "        <td align=\"left\" valign=\"top\" width=\"480\">\n",
      "         <font size=\"3\">\n",
      "          <b>\n",
      "           To love is to express oneself. Usually one's love is obviously manifested. It may be that even as some of us are generally shy and inhibited, some of us are poorer at loving. Doubtless there are complex, peculiar combinations of factors operating in every individual case. And most of our general rules or commonplace assumptions are based on behavior prevalent in our\n",
      "           <i>\n",
      "            culture.\n",
      "           </i>\n",
      "          </b>\n",
      "         </font>\n",
      "        </td>\n",
      "       </tr>\n",
      "       <tr>\n",
      "        <td align=\"left\" valign=\"top\" width=\"480\">\n",
      "         <font size=\"3\">\n",
      "          <b>\n",
      "           The chief motivating factor in many of our lives is love. People go to extraordinary lengths and costs to find love, or to give it, to keep it, to hope for it. In some cultures, such as primitive stone-age ones, I'm sure that basic food gathering and survival work is more dominating than any interpretation of love other than love of continuing to\n",
      "           <i>\n",
      "            live.\n",
      "           </i>\n",
      "          </b>\n",
      "         </font>\n",
      "        </td>\n",
      "       </tr>\n",
      "       <tr>\n",
      "        <td align=\"left\" valign=\"top\" width=\"480\">\n",
      "         <font size=\"3\">\n",
      "          <b>\n",
      "           In my life, I prefer to give my time to being with people I love, rather than being paid to spend time working for people whom I don't love. Similarly, I would rather remain single and wait until I can marry a woman with whom I can share profound love, than cohabit with a woman about who I am indifferent. It is often said \"what really counts is that a person does what he or she loves.\" Yet how many of us\n",
      "           <i>\n",
      "            really\n",
      "           </i>\n",
      "           do? How many of us\n",
      "           <i>\n",
      "            would\n",
      "           </i>\n",
      "           keep doing our jobs if we didn't need the money? Few of us. Even if I was suddenly rich financially, I'd still do most of what I do now; I'd not fundamentally change.\n",
      "          </b>\n",
      "         </font>\n",
      "        </td>\n",
      "       </tr>\n",
      "       <tr>\n",
      "        <td align=\"left\" valign=\"top\" width=\"480\">\n",
      "         <font size=\"3\">\n",
      "          <b>\n",
      "           No, money won't alter me much. Love may. If I decide to marry a woman, and she is eager also, I would stop merely doing whatever I please, and start giving my attention equally to pleasing her. Ideally we'd work very well together. But times would occur when we'd disagree, so I'd yield whenever I possibly could, out of my love and respect, and concern for our marriage.\n",
      "          </b>\n",
      "         </font>\n",
      "        </td>\n",
      "       </tr>\n",
      "       <tr>\n",
      "        <td align=\"left\" valign=\"top\" width=\"480\">\n",
      "         <font size=\"3\">\n",
      "          <b>\n",
      "           The love that motivates people to give freely their very lives is greatly inspiring. If martyrs didn't have love propelling them, then they at any rate had\n",
      "           <i>\n",
      "            strong\n",
      "           </i>\n",
      "           emotions. Sometimes I dream about hypothetical situations that test my love. For example, if the woman I think the very world of, asked me to give up my Seattle existence, to live with her 1,000 miles away -- would I do it? Maybe. If I figured there was good odds of living happily ever after, I might. But such questions are answered not just by deliberation, they're affected by emotion. Love can blind us to logic, reason and common sense. I love so many things about my life in Seattle, and there are so many eligible women here  -- that the chance of me heading out of town, loveblind, is remote. But that I\n",
      "           <i>\n",
      "            think\n",
      "           </i>\n",
      "           about such things, shows I am moved mightily by love.\n",
      "          </b>\n",
      "         </font>\n",
      "        </td>\n",
      "       </tr>\n",
      "       <tr>\n",
      "        <td align=\"left\" valign=\"top\" width=\"480\">\n",
      "         <font size=\"3\">\n",
      "          <b>\n",
      "           I am so glad to love my work, to love my family and friends, to love my city, and to love nature. Yes, I want to also love a woman who loves me. That will come. So far it has alway been one-way rather than mutual. I'm particular, patient, and confident. It's sort of a \"patting oneself on the back\" to say it, but I wish more people would show restraint about forming intimate relationships of the sort that are called marriages. Too many young folks hurry into such arrangements, and all too soon failure comes about. People think it's easier than it really is. Loving is often easy, but the long-term nurturing and sustaining of the love is work. I develop this theme more in my essay FAMILY.\n",
      "          </b>\n",
      "         </font>\n",
      "        </td>\n",
      "       </tr>\n",
      "       <tr>\n",
      "       </tr>\n",
      "      </table>\n",
      "     </td>\n",
      "     <td align=\"center\" valign=\"top\" width=\"125\">\n",
      "      <br/>\n",
      "      <br/>\n",
      "      <br/>\n",
      "      <!-- -- #include virtual=\"/includes/panel1.html\" -- -->\n",
      "     </td>\n",
      "    </tr>\n",
      "   </table>\n",
      "  </center>\n",
      "  <!-- -- #include virtual=\"/includes/footer.html\" -- -->\n",
      " </body>\n",
      "</html>\n",
      "\n"
     ]
    }
   ],
   "source": [
    "# turing the response into a BeautifulSoup object to extract data\n",
    "soup = BeautifulSoup(page.content, \"html.parser\")\n",
    "print(soup.prettify())"
   ]
  },
  {
   "cell_type": "code",
   "execution_count": 5,
   "id": "46199491",
   "metadata": {},
   "outputs": [
    {
     "name": "stdout",
     "output_type": "stream",
     "text": [
      "<b>Love</b>\n",
      "Love\n"
     ]
    }
   ],
   "source": [
    "# using the find method to scrape the text within the first bold tag\n",
    "title = soup.find(\"b\")\n",
    "print(title)\n",
    "print(title.get_text())"
   ]
  },
  {
   "cell_type": "code",
   "execution_count": 6,
   "id": "7ae78012",
   "metadata": {},
   "outputs": [
    {
     "name": "stdout",
     "output_type": "stream",
     "text": [
      "Love\n",
      "    Of the fourteen essays I'm writing, only this one treats an emotion. That love is the most important emotion is the deduction. I think other emotions may be as important, but are not so powerfully moving or interesting to most of us. Love is exciting. There is no need to justify choosing to write about it. Are not most songs love songs? Are not most novels stories featuring love?\n",
      "    Love in its broad sense is the feeling of strong attraction, and often attachment and protection. It is felt towards other people, towards pets, towards inanimate objects, towards abstractions such as patriotism, religious matters, hobbies, and I suppose nearly everything. It is multifaceted, and includes ordinary self-love, chivalrous love, carnal or sexual love, friendly love, family love. It is an emotion that is closely related to certain others, such as hope. At its simplest level it is what we strongly like.\n",
      "    I have a hunch that love, like the rose, owes much of its appeal to our mainstream Western culture -- and that in some other societies it is by no means such a big deal. Somehow, especially in recent centuries, the notion of romantic love has become elevated far more than it used to be. Why this has happened is for social historians to explain; I don't know. I will merely say that if one reads the ancient Greeks and Romans, then it is obvious that today love is relatively more significant in our culture. A plethora of differences exist between us and people 2,000 years ago. That doesn't invalidate my observation that we moderns rate love more importantly now than our ancestors used to.\n",
      "    It is presumed that sexual attraction, being instinctive, is comparatively constant over the centuries and across cultures. But let's be clear: sexual attraction is only one manifestation of love. One can be sexually aroused and still feel no love, just as a couple can be married and possess no mutual sexual appetite or love. Some people find they can fulfill sexual needs one way, and they love something else, such as a hobby or their work.\n",
      "    When sexual desire, or go ahead and call it sexual need, is very strong, it certainly gets called love. To be precise it may be best termed carnal love. Similarly, a glutton loves food, and an addict perversely loves whatever drug or activity he's hooked on. Sexual love, then, is not necessarily anything more than an equivalent of an animal being in heat. On the other hand, if two people share a wholehearted, broad-based love for each other, then their sexual relations may be more an expression of their affection than of their instinctive drive.\n",
      "    Yes, love and sex are too much confused. It is frightful how many beastly rapes and molestations take place, which are sexual but devoid of love completely. Love can be found thriving far from sex, as in a mother's love for her child, or a religious order's mystical love of doing glory to God, or of the knight's chivalrous love towards his country and rulers. The soldier's courage to defend his family is a kind of love in action. The artist who starves in an attic, living a celibate existence to produce masterpieces, is illuminated by love. Childhood friends who go through life together know love, though not sex, as regards each other. Have I made my point obvious?\n",
      "    It is, I'm sure. But I'm on a roll and don't want to stop yet. Love's antithesis is hate. Hate is often associated with harm or destruction, even death. But again, it is not equal to those. It is strongly held negative emotions, even as love is strongly held positive ones.\n",
      "    The golden rule, \"Love thy neighbor as thyself,\" or \"do unto others as you would have them do unto you,\" helps us see that if we want people to enjoy peaceful, content existence, we must work together cooperatively, and not let our passions, of either love or hate, get us out of line.\n",
      "    One thing I'm sure of, is the world would be a better place if all of us individuals had someone or something we loved. I feel sorry for people who are neutral about this, indifferent regarding that, and don't know what really turns them on. I almost wish there was a law against having no love in one's life. Well, that kind of thinking is too extreme. Is it possible, without love, to be healthy in a mental sense? To be balanced? Can an individual's self-esteem be proper without love? It is certainly possible for a person to be temporarily devoid of love. For example, pick up a random individual, transport him across the planet, and set him into a strange culture, where he knows no one, he knows not a word of the language. He will be in shock, and will love no one, and probably his only love then would be of longing for his familiar life. Temporarily, his shock, his sadness, and his bewilderment will be more powerful feelings than any love he feels.\n",
      "    Since love can be felt in so many different ways, it is a good thing our culture allows people freedom to choose. All the more wondrous that some of us seem to love nothing! What explains this? Are children who were in dysfunctional, abusive situations forced to retreat as it were into a shell, to be calloused against freely opening themselves to the flow of their emotions? Are certain people born with chemical imbalances in their brains which make it impossible for them to feel love? Are some people so prone to liking numerous things that they tend to not strongly like (i.e., love) any one thing in particular?\n",
      "    To love is to express oneself. Usually one's love is obviously manifested. It may be that even as some of us are generally shy and inhibited, some of us are poorer at loving. Doubtless there are complex, peculiar combinations of factors operating in every individual case. And most of our general rules or commonplace assumptions are based on behavior prevalent in our culture.\n",
      "    The chief motivating factor in many of our lives is love. People go to extraordinary lengths and costs to find love, or to give it, to keep it, to hope for it. In some cultures, such as primitive stone-age ones, I'm sure that basic food gathering and survival work is more dominating than any interpretation of love other than love of continuing to live.\n",
      "    In my life, I prefer to give my time to being with people I love, rather than being paid to spend time working for people whom I don't love. Similarly, I would rather remain single and wait until I can marry a woman with whom I can share profound love, than cohabit with a woman about who I am indifferent. It is often said \"what really counts is that a person does what he or she loves.\" Yet how many of us really do? How many of us would keep doing our jobs if we didn't need the money? Few of us. Even if I was suddenly rich financially, I'd still do most of what I do now; I'd not fundamentally change.\n",
      "    No, money won't alter me much. Love may. If I decide to marry a woman, and she is eager also, I would stop merely doing whatever I please, and start giving my attention equally to pleasing her. Ideally we'd work very well together. But times would occur when we'd disagree, so I'd yield whenever I possibly could, out of my love and respect, and concern for our marriage.\n",
      "    The love that motivates people to give freely their very lives is greatly inspiring. If martyrs didn't have love propelling them, then they at any rate had strong emotions. Sometimes I dream about hypothetical situations that test my love. For example, if the woman I think the very world of, asked me to give up my Seattle existence, to live with her 1,000 miles away -- would I do it? Maybe. If I figured there was good odds of living happily ever after, I might. But such questions are answered not just by deliberation, they're affected by emotion. Love can blind us to logic, reason and common sense. I love so many things about my life in Seattle, and there are so many eligible women here  -- that the chance of me heading out of town, loveblind, is remote. But that I think about such things, shows I am moved mightily by love.\n",
      "    I am so glad to love my work, to love my family and friends, to love my city, and to love nature. Yes, I want to also love a woman who loves me. That will come. So far it has alway been one-way rather than mutual. I'm particular, patient, and confident. It's sort of a \"patting oneself on the back\" to say it, but I wish more people would show restraint about forming intimate relationships of the sort that are called marriages. Too many young folks hurry into such arrangements, and all too soon failure comes about. People think it's easier than it really is. Loving is often easy, but the long-term nurturing and sustaining of the love is work. I develop this theme more in my essay FAMILY.\n"
     ]
    }
   ],
   "source": [
    "# get all text within the bold element tag then output each\n",
    "poem_text = soup.find_all(\"b\")\n",
    "for text in poem_text:\n",
    "    print(text.get_text())"
   ]
  },
  {
   "cell_type": "code",
   "execution_count": 8,
   "id": "1c48d260",
   "metadata": {},
   "outputs": [
    {
     "name": "stdout",
     "output_type": "stream",
     "text": [
      "<span class=\"p-nickname vcard-username d-block\" itemprop=\"additionalName\">\n",
      "          Connor-SM\n",
      "\n",
      "        </span>\n",
      "\n",
      "          Connor-SM\n",
      "\n",
      "        \n"
     ]
    }
   ],
   "source": [
    "# finding an element by specific attribute key-values\n",
    "page = requests.get('https://github.com/Connor-SM')\n",
    "\n",
    "soup = BeautifulSoup(page.content, 'html.parser')\n",
    "\n",
    "username = soup.find('span', attrs={ 'class' : 'vcard-username' })   # find first span with this class\n",
    "\n",
    "print(username)   # will show that element has class of vcard-username among others\n",
    "print(username.get_text())"
   ]
  },
  {
   "cell_type": "code",
   "execution_count": 10,
   "id": "3da122ed",
   "metadata": {},
   "outputs": [
    {
     "name": "stdout",
     "output_type": "stream",
     "text": [
      "<list_iterator object at 0x000001E3AC947070>\n"
     ]
    }
   ],
   "source": [
    "# traversing through the DOM using Beautiful Soup - using the children attribute\n",
    "page = requests.get(\"http://www.arthurleej.com/e-love.html\")\n",
    "soup = BeautifulSoup(page.content, \"html.parser\")\n",
    "print(soup.children)"
   ]
  },
  {
   "cell_type": "code",
   "execution_count": 11,
   "id": "78bfa592",
   "metadata": {},
   "outputs": [
    {
     "name": "stdout",
     "output_type": "stream",
     "text": [
      "<class 'bs4.element.Doctype'>\n",
      "<class 'bs4.element.NavigableString'>\n",
      "<class 'bs4.element.Tag'>\n",
      "<class 'bs4.element.NavigableString'>\n"
     ]
    }
   ],
   "source": [
    "# understanding the children within the soup object\n",
    "for child in list(soup.children):\n",
    "    print(type(child))"
   ]
  },
  {
   "cell_type": "code",
   "execution_count": 12,
   "id": "eba135be",
   "metadata": {},
   "outputs": [
    {
     "name": "stdout",
     "output_type": "stream",
     "text": [
      "\n",
      "\n",
      "Start of new section\n",
      " \n",
      "\n",
      "\n",
      "Start of new section\n",
      "<head> <title>Essay on Love by Arthur Lee Jacobson</title> <meta content=\"Trees,gardening, wild and domestic plant life are the specialty of author Arthur Lee Jacobson.\" name=\"description\"/> <meta content=\"trees, gardening, wild plants, domestic plants, gardening author, gardening books, Arthur Lee Jacobson, A L J, A L Jacobson, Arthur Jacobson, arthur lee, plants, flowers, seattle, washington\" name=\"keywords\"/> <meta content=\"document\" name=\"resource-type\"/> <meta content=\"BBEdit 4.5\" name=\"generator\"/> <meta content=\"all\" name=\"robots\"/> <meta content=\"Gardening\" name=\"classification\"/> <meta content=\"global\" name=\"distribution\"/> <meta content=\"general\" name=\"rating\"/> <meta content=\"2001 Arthur Lee Jacobson\" name=\"copyright\"/> <meta content=\"eriktyme@eriktyme.com\" name=\"author\"/> <meta content=\"en-us\" name=\"language\"/> </head>\n",
      "\n",
      "\n",
      "Start of new section\n",
      " \n",
      "\n",
      "\n",
      "Start of new section\n",
      "<body alink=\"#33CC33\" background=\"images/background1a.jpg\" bgcolor=\"#FFFFCC\" link=\"#0000FF\" text=\"#000000\" vlink=\"#FF00FF\"> <!-- -- #include virtual=\"/includes/header.html\" -- --> <br/><center><table border=\"0\" cellpadding=\"1\" cellspacing=\"2\"> <tr> <td align=\"center\" valign=\"top\" width=\"480\"> <table border=\"0\" cellpadding=\"1\" cellspacing=\"2\"> <tr> <td align=\"center\" valign=\"top\" width=\"480\"><font size=\"5\"><b>Love</b></font></td> </tr> <tr> <td align=\"left\" valign=\"top\" width=\"480\"><font size=\"3\"><b>    Of the fourteen essays I'm writing, only this one treats an emotion. That love is the most important emotion is the deduction. I think other emotions may be as important, but are not so powerfully moving or interesting to most of us. Love is exciting. There is no need to justify choosing to write about it. Are not most songs love songs? Are not most novels stories featuring love?</b></font></td> </tr> <tr> <td align=\"left\" valign=\"top\" width=\"480\"><font size=\"3\"><b>    Love in its broad sense is the feeling of strong attraction, and often attachment and protection. It is felt towards other people, towards pets, towards inanimate objects, towards abstractions such as patriotism, religious matters, hobbies, and I suppose nearly everything. It is multifaceted, and includes ordinary self-love, chivalrous love, carnal or sexual love, friendly love, family love. It is an emotion that is closely related to certain others, such as hope. At its simplest level it is what we strongly like.</b></font></td> </tr> <tr> <td align=\"left\" valign=\"top\" width=\"480\"><font size=\"3\"><b>    I have a hunch that love, like the rose, owes much of its appeal to our mainstream Western culture -- and that in some other societies it is by no means such a big deal. Somehow, especially in recent centuries, the notion of romantic love has become elevated far more than it used to be. Why this has happened is for social historians to explain; I don't know. I will merely say that if one reads the ancient Greeks and Romans, then it is obvious that today love is relatively more significant in our culture. A plethora of differences exist between us and people 2,000 years ago. That doesn't invalidate my observation that we moderns rate love more importantly now than our ancestors used to.</b></font></td> </tr> <tr> <td align=\"left\" valign=\"top\" width=\"480\"><font size=\"3\"><b>    It is presumed that sexual attraction, being instinctive, is comparatively constant over the centuries and across cultures. But let's be clear: sexual attraction is only one manifestation of love. One can be sexually aroused and still feel no love, just as a couple can be married and possess no mutual sexual appetite or love. Some people find they can fulfill sexual needs one way, and they love something else, such as a hobby or their work.</b></font></td> </tr> <tr> <td align=\"left\" valign=\"top\" width=\"480\"><font size=\"3\"><b>    When sexual desire, or go ahead and call it sexual need, is very strong, it certainly gets called love. To be precise it may be best termed carnal love. Similarly, a glutton loves food, and an addict perversely loves whatever drug or activity he's hooked on. Sexual love, then, is not necessarily anything more than an equivalent of an animal being in heat. On the other hand, if two people share a wholehearted, broad-based love for each other, then their sexual relations may be more an expression of their affection than of their instinctive drive.</b></font></td> </tr> <tr> <td align=\"left\" valign=\"top\" width=\"480\"><font size=\"3\"><b>    Yes, love and sex are too much confused. It is frightful how many beastly rapes and molestations take place, which are sexual but devoid of love completely. Love can be found thriving far from sex, as in a mother's love for her child, or a religious order's mystical love of doing glory to God, or of the knight's chivalrous love towards his country and rulers. The soldier's courage to defend his family is a kind of love in action. The artist who starves in an attic, living a celibate existence to produce masterpieces, is illuminated by love. Childhood friends who go through life together know love, though not sex, as regards each other. Have I made my point obvious?</b></font></td> </tr> <tr> <td align=\"left\" valign=\"top\" width=\"480\"><font size=\"3\"><b>    It is, I'm sure. But I'm on a roll and don't want to stop yet. Love's antithesis is hate. Hate is often associated with harm or destruction, even death. But again, it is not <i>equal</i> to those. It is strongly held negative emotions, even as love is strongly held positive ones.</b><br/><br/></font></td> </tr> <tr> <td align=\"left\" valign=\"top\" width=\"480\"><font size=\"3\"><b>    The golden rule, \"Love thy neighbor as thyself,\" or \"do unto others as you would have them do unto you,\" helps us see that if we want people to enjoy peaceful, content existence, we must work together cooperatively, and not let our passions, of either love or hate, get us out of line.</b></font></td> </tr> <tr> <td align=\"left\" valign=\"top\" width=\"480\"><font size=\"3\"><b>    One thing I'm sure of, is the world would be a better place if all of us individuals had someone or something we loved. I feel sorry for people who are neutral about this, indifferent regarding that, and don't know what really turns them on. I almost wish there was a law against having no love in one's life. Well, that kind of thinking is too extreme. Is it possible, without love, to be healthy in a mental sense? To be balanced? Can an individual's self-esteem be proper without love? It is certainly possible for a person to be <i>temporarily</i> devoid of love. For example, pick up a random individual, transport him across the planet, and set him into a strange culture, where he knows no one, he knows not a word of the language. He will be in shock, and will love no one, and probably his only love then would be of longing for his familiar life. Temporarily, his shock, his sadness, and his bewilderment will be more powerful feelings than any love he feels.</b></font></td> </tr> <tr> <td align=\"left\" valign=\"top\" width=\"480\"><font size=\"3\"><b>    Since love can be felt in so many different ways, it is a good thing our culture allows people freedom to choose. All the more wondrous that some of us seem to love nothing! What explains this? Are children who were in dysfunctional, abusive situations forced to retreat as it were into a shell, to be calloused against freely opening themselves to the flow of their emotions? Are certain people born with chemical imbalances in their brains which make it impossible for them to feel love? Are some people so prone to liking numerous things that they tend to not strongly like (<i>i.e.,</i> love) any one thing in particular?</b></font></td> </tr> <tr> <td align=\"left\" valign=\"top\" width=\"480\"><font size=\"3\"><b>    To love is to express oneself. Usually one's love is obviously manifested. It may be that even as some of us are generally shy and inhibited, some of us are poorer at loving. Doubtless there are complex, peculiar combinations of factors operating in every individual case. And most of our general rules or commonplace assumptions are based on behavior prevalent in our <i>culture.</i></b></font></td> </tr> <tr> <td align=\"left\" valign=\"top\" width=\"480\"><font size=\"3\"><b>    The chief motivating factor in many of our lives is love. People go to extraordinary lengths and costs to find love, or to give it, to keep it, to hope for it. In some cultures, such as primitive stone-age ones, I'm sure that basic food gathering and survival work is more dominating than any interpretation of love other than love of continuing to <i>live.</i></b></font></td> </tr> <tr> <td align=\"left\" valign=\"top\" width=\"480\"><font size=\"3\"><b>    In my life, I prefer to give my time to being with people I love, rather than being paid to spend time working for people whom I don't love. Similarly, I would rather remain single and wait until I can marry a woman with whom I can share profound love, than cohabit with a woman about who I am indifferent. It is often said \"what really counts is that a person does what he or she loves.\" Yet how many of us <i>really</i> do? How many of us <i>would</i> keep doing our jobs if we didn't need the money? Few of us. Even if I was suddenly rich financially, I'd still do most of what I do now; I'd not fundamentally change.</b></font></td> </tr> <tr> <td align=\"left\" valign=\"top\" width=\"480\"><font size=\"3\"><b>    No, money won't alter me much. Love may. If I decide to marry a woman, and she is eager also, I would stop merely doing whatever I please, and start giving my attention equally to pleasing her. Ideally we'd work very well together. But times would occur when we'd disagree, so I'd yield whenever I possibly could, out of my love and respect, and concern for our marriage.</b></font></td> </tr> <tr> <td align=\"left\" valign=\"top\" width=\"480\"><font size=\"3\"><b>    The love that motivates people to give freely their very lives is greatly inspiring. If martyrs didn't have love propelling them, then they at any rate had <i>strong</i> emotions. Sometimes I dream about hypothetical situations that test my love. For example, if the woman I think the very world of, asked me to give up my Seattle existence, to live with her 1,000 miles away -- would I do it? Maybe. If I figured there was good odds of living happily ever after, I might. But such questions are answered not just by deliberation, they're affected by emotion. Love can blind us to logic, reason and common sense. I love so many things about my life in Seattle, and there are so many eligible women here  -- that the chance of me heading out of town, loveblind, is remote. But that I <i>think</i> about such things, shows I am moved mightily by love.</b></font></td> </tr> <tr> <td align=\"left\" valign=\"top\" width=\"480\"><font size=\"3\"><b>    I am so glad to love my work, to love my family and friends, to love my city, and to love nature. Yes, I want to also love a woman who loves me. That will come. So far it has alway been one-way rather than mutual. I'm particular, patient, and confident. It's sort of a \"patting oneself on the back\" to say it, but I wish more people would show restraint about forming intimate relationships of the sort that are called marriages. Too many young folks hurry into such arrangements, and all too soon failure comes about. People think it's easier than it really is. Loving is often easy, but the long-term nurturing and sustaining of the love is work. I develop this theme more in my essay FAMILY.</b></font></td> </tr> <tr> </tr></table> </td> <td align=\"center\" valign=\"top\" width=\"125\"><br/><br/><br/><!-- -- #include virtual=\"/includes/panel1.html\" -- --> </td> </tr> </table></center> <!-- -- #include virtual=\"/includes/footer.html\" -- --> </body>\n",
      "\n",
      "\n",
      "Start of new section\n",
      " \n"
     ]
    }
   ],
   "source": [
    "# accessing the .Tag object which holds the html - trying to access the title tag\n",
    "html = list(soup.children)[2]\n",
    "for section in html:\n",
    "    print(\"\\n\\nStart of new section\")\n",
    "    print(section)"
   ]
  },
  {
   "cell_type": "code",
   "execution_count": 15,
   "id": "680ef5b4",
   "metadata": {},
   "outputs": [
    {
     "name": "stdout",
     "output_type": "stream",
     "text": [
      "\n",
      "\n",
      "New Tag\n",
      " \n",
      "\n",
      "\n",
      "New Tag\n",
      "<title>Essay on Love by Arthur Lee Jacobson</title>\n",
      "\n",
      "\n",
      "New Tag\n",
      " \n",
      "\n",
      "\n",
      "New Tag\n",
      "<meta content=\"Trees,gardening, wild and domestic plant life are the specialty of author Arthur Lee Jacobson.\" name=\"description\"/>\n",
      "\n",
      "\n",
      "New Tag\n",
      " \n",
      "\n",
      "\n",
      "New Tag\n",
      "<meta content=\"trees, gardening, wild plants, domestic plants, gardening author, gardening books, Arthur Lee Jacobson, A L J, A L Jacobson, Arthur Jacobson, arthur lee, plants, flowers, seattle, washington\" name=\"keywords\"/>\n",
      "\n",
      "\n",
      "New Tag\n",
      " \n",
      "\n",
      "\n",
      "New Tag\n",
      "<meta content=\"document\" name=\"resource-type\"/>\n",
      "\n",
      "\n",
      "New Tag\n",
      " \n",
      "\n",
      "\n",
      "New Tag\n",
      "<meta content=\"BBEdit 4.5\" name=\"generator\"/>\n",
      "\n",
      "\n",
      "New Tag\n",
      " \n",
      "\n",
      "\n",
      "New Tag\n",
      "<meta content=\"all\" name=\"robots\"/>\n",
      "\n",
      "\n",
      "New Tag\n",
      " \n",
      "\n",
      "\n",
      "New Tag\n",
      "<meta content=\"Gardening\" name=\"classification\"/>\n",
      "\n",
      "\n",
      "New Tag\n",
      " \n",
      "\n",
      "\n",
      "New Tag\n",
      "<meta content=\"global\" name=\"distribution\"/>\n",
      "\n",
      "\n",
      "New Tag\n",
      " \n",
      "\n",
      "\n",
      "New Tag\n",
      "<meta content=\"general\" name=\"rating\"/>\n",
      "\n",
      "\n",
      "New Tag\n",
      " \n",
      "\n",
      "\n",
      "New Tag\n",
      "<meta content=\"2001 Arthur Lee Jacobson\" name=\"copyright\"/>\n",
      "\n",
      "\n",
      "New Tag\n",
      " \n",
      "\n",
      "\n",
      "New Tag\n",
      "<meta content=\"eriktyme@eriktyme.com\" name=\"author\"/>\n",
      "\n",
      "\n",
      "New Tag\n",
      " \n",
      "\n",
      "\n",
      "New Tag\n",
      "<meta content=\"en-us\" name=\"language\"/>\n",
      "\n",
      "\n",
      "New Tag\n",
      " \n"
     ]
    }
   ],
   "source": [
    "# accessing the head element using the children attribute\n",
    "head = list(html.children)[1]\n",
    "for item in head:\n",
    "    print(\"\\n\\nNew Tag\")\n",
    "    print(item)"
   ]
  },
  {
   "cell_type": "code",
   "execution_count": 16,
   "id": "037a3b86",
   "metadata": {},
   "outputs": [
    {
     "name": "stdout",
     "output_type": "stream",
     "text": [
      "Essay on Love by Arthur Lee Jacobson\n",
      "<class 'bs4.element.NavigableString'>\n",
      "Essay on Love by Arthur Lee Jacobson\n"
     ]
    }
   ],
   "source": [
    "# scraping the title text\n",
    "title = list(head)[1]\n",
    "print(title.string)\n",
    "print(type(title.string))\n",
    "print(title.get_text())"
   ]
  },
  {
   "cell_type": "markdown",
   "id": "6aac2df1",
   "metadata": {},
   "source": [
    "# Friday Project: Website Analysis"
   ]
  },
  {
   "cell_type": "code",
   "execution_count": null,
   "id": "d584fa09",
   "metadata": {},
   "outputs": [],
   "source": [
    "# import all necessary libraries\n",
    "import requests\n",
    "import matplotlib.pyplot as plt\n",
    "from bs4 import BeautifulSoup\n",
    "from bs4.element import Comment\n",
    "from IPython.display import clear_output"
   ]
  },
  {
   "cell_type": "code",
   "execution_count": 46,
   "id": "fe175f24",
   "metadata": {},
   "outputs": [
    {
     "name": "stdout",
     "output_type": "stream",
     "text": [
      "Enter a website to analyze: https://twitter.com/home\n",
      "The top word is: JavaScript\n"
     ]
    },
    {
     "data": {
      "image/png": "[encoded data removed]",
      "text/plain": [
       "<Figure size 1440x720 with 1 Axes>"
      ]
     },
     "metadata": {
      "needs_background": "light"
     },
     "output_type": "display_data"
    },
    {
     "name": "stdout",
     "output_type": "stream",
     "text": [
      "Would you like to scrape a website (y/n)?n\n",
      "Thanks for analyzing! Come back again!\n"
     ]
    }
   ],
   "source": [
    "# graph results of top 7 words\n",
    "def displayResults(words, site):\n",
    "    count = [item[1] for item in words][::-1]\n",
    "    word = [item[0] for item in words][::-1]\n",
    "    \n",
    "    plt.figure(figsize=(20, 10))\n",
    "    \n",
    "    plt.bar(word, count)\n",
    "    \n",
    "    plt.title(\"Analyzing Top Words from: {}...\".format(site[:50]), fontname=\"Sans Serif\", fontsize=24)\n",
    "    plt.xlabel(\"Words\", fontsize=24)\n",
    "    plt.ylabel(\"# of Appearances\", fontsize=24)\n",
    "    plt.xticks(fontname=\"Sans Serif\", fontsize=20)\n",
    "    plt.yticks(fontname=\"Sans Serif\", fontsize=20)\n",
    "    \n",
    "    plt.show()\n",
    "    \n",
    "# filter article words and hidden characters\n",
    "def filterWaste(word):\n",
    "    bad_words = ('the', 'a', 'in', 'of', 'to', 'you', '\\xa0', 'and', 'at', 'on', 'for', 'from', 'is', 'that', \n",
    "                 'are', 'be', '-', 'as', '&', 'they', 'with',\n",
    "                 'how', 'was', 'her', 'him', 'i', 'has', '|', 'his')\n",
    "    if word.lower() in bad_words:\n",
    "        return False\n",
    "    else:\n",
    "        return True\n",
    "    \n",
    "# filter out all elements that do not contain text that appears on site\n",
    "def filterTags(element):\n",
    "    if element.parent.name in [\"style\", \"script\", \"head\", \"title\", \"meta\", \"[document]\"]:\n",
    "        return False\n",
    "    \n",
    "    if isinstance(element, Comment):\n",
    "        return False\n",
    " \n",
    "    return True\n",
    "    \n",
    "# request site and return top 7 most used words\n",
    "def scrape(site):\n",
    "    page = requests.get(site)\n",
    "    \n",
    "    soup = BeautifulSoup(page.content, \"html.parser\")\n",
    "    \n",
    "    text = soup.find_all(text=True)\n",
    "    \n",
    "    visible_text = filter(filterTags, text)\n",
    "    \n",
    "    word_count = {}\n",
    "    \n",
    "    for text in visible_text:\n",
    "        words = text.replace(\"\\n\", \"\").replace(\"\\t\", \"\").split(\" \")\n",
    "        \n",
    "        words = list(filter(filterWaste, words))\n",
    "        \n",
    "        for word in words:\n",
    "            if word != \"\":\n",
    "                if word in word_count:\n",
    "                    word_count[word] += 1\n",
    "                else:\n",
    "                    word_count[word] = 1\n",
    "                    \n",
    "    word_count = sorted(word_count.items(), key=lambda kv: kv[1], reverse=True)\n",
    "    \n",
    "    return word_count[:7]\n",
    "\n",
    "# main loop should ask if user wants to scrape, then what site to scrape\n",
    "while input(\"Would you like to scrape a website (y/n)?\") == \"y\":\n",
    "    try:\n",
    "        clear_output()\n",
    "        \n",
    "        site = input(\"Enter a website to analyze: \")\n",
    "        \n",
    "        top_words = scrape(site)\n",
    "        \n",
    "        top_word = top_words[0]\n",
    "        \n",
    "        print(\"The top word is: {}\".format(top_word[0]))\n",
    "        \n",
    "        displayResults(top_words, site)\n",
    "        \n",
    "        scrape(site)\n",
    "    except:\n",
    "        print(\"Something went wrong, please try again.\")\n",
    "print(\"Thanks for analyzing! Come back again!\")\n"
   ]
  },
  {
   "cell_type": "code",
   "execution_count": null,
   "id": "75c9257a",
   "metadata": {},
   "outputs": [],
   "source": []
  },
  {
   "cell_type": "code",
   "execution_count": null,
   "id": "df7ed32a",
   "metadata": {},
   "outputs": [],
   "source": []
  }
 ],
 "metadata": {
  "kernelspec": {
   "display_name": "Python 3 (ipykernel)",
   "language": "python",
   "name": "python3"
  },
  "language_info": {
   "codemirror_mode": {
    "name": "ipython",
    "version": 3
   },
   "file_extension": ".py",
   "mimetype": "text/x-python",
   "name": "python",
   "nbconvert_exporter": "python",
   "pygments_lexer": "ipython3",
   "version": "3.9.12"
  }
 },
 "nbformat": 4,
 "nbformat_minor": 5
}
