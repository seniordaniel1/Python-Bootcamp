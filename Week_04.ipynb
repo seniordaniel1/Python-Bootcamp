{
 "cells": [
  {
   "cell_type": "markdown",
   "id": "f2336fd4",
   "metadata": {},
   "source": [
    "# Lists"
   ]
  },
  {
   "cell_type": "code",
   "execution_count": 1,
   "id": "ca95faf2",
   "metadata": {},
   "outputs": [
    {
     "name": "stdout",
     "output_type": "stream",
     "text": [
      "[5, 10, 15.2, 20]\n"
     ]
    }
   ],
   "source": [
    "# declaring a list of numbers\n",
    "nums = [5, 10, 15.2, 20]\n",
    "print(nums)"
   ]
  },
  {
   "cell_type": "code",
   "execution_count": 2,
   "id": "bda2894e",
   "metadata": {},
   "outputs": [
    {
     "name": "stdout",
     "output_type": "stream",
     "text": [
      "10\n",
      "15.2\n"
     ]
    }
   ],
   "source": [
    "# accessing elements within a list\n",
    "print(nums[1])\n",
    "num = nums[2]\n",
    "print(num)"
   ]
  },
  {
   "cell_type": "code",
   "execution_count": 3,
   "id": "c2de0033",
   "metadata": {},
   "outputs": [
    {
     "name": "stdout",
     "output_type": "stream",
     "text": [
      "[4.3, 'word', True]\n"
     ]
    }
   ],
   "source": [
    "# declaring a list of mixed data types\n",
    "num = 4.3\n",
    "data = [num, \"word\", True]\n",
    "print(data)"
   ]
  },
  {
   "cell_type": "code",
   "execution_count": 4,
   "id": "a1802879",
   "metadata": {},
   "outputs": [
    {
     "name": "stdout",
     "output_type": "stream",
     "text": [
      "[5, 'book', [34, 'hello'], True]\n",
      "[34, 'hello']\n"
     ]
    }
   ],
   "source": [
    "# understanding lists within lists\n",
    "data = [5, \"book\", [34, \"hello\"], True]\n",
    "print(data)\n",
    "print(data[2])"
   ]
  },
  {
   "cell_type": "code",
   "execution_count": 5,
   "id": "ab16b386",
   "metadata": {},
   "outputs": [
    {
     "name": "stdout",
     "output_type": "stream",
     "text": [
      "34\n",
      "hello\n"
     ]
    }
   ],
   "source": [
    "# using double bracket notation to access lists within lists\n",
    "print(data[2][0])\n",
    "inner_list = data[2]\n",
    "print(inner_list[1])"
   ]
  },
  {
   "cell_type": "code",
   "execution_count": 6,
   "id": "3c76caa0",
   "metadata": {},
   "outputs": [
    {
     "name": "stdout",
     "output_type": "stream",
     "text": [
      "[5, 10, 15, 20]\n",
      "[100, 10, 15, 20]\n"
     ]
    }
   ],
   "source": [
    "# changing values in a list through index\n",
    "data = [5, 10, 15, 20]\n",
    "print(data)\n",
    "data[0] = 100\n",
    "print(data)"
   ]
  },
  {
   "cell_type": "code",
   "execution_count": 8,
   "id": "0778d13b",
   "metadata": {},
   "outputs": [
    {
     "name": "stdout",
     "output_type": "stream",
     "text": [
      "a: [5, 10]\t b: [5, 10]\n",
      "Location a[0]: 1302489426352\t Location b[0]: 1302489426352\n",
      "a: [20, 10]\t b: [20, 10]\n"
     ]
    }
   ],
   "source": [
    "# understanding how lists are stored\n",
    "a = [5, 10]\n",
    "b = a\n",
    "print(\"a: {}\\t b: {}\".format(a,b))\n",
    "print(\"Location a[0]: {}\\t Location b[0]: {}\".format(id(a[0]),id(b[0])))\n",
    "a[0] = 20\n",
    "print(\"a: {}\\t b: {}\".format(a,b))"
   ]
  },
  {
   "cell_type": "code",
   "execution_count": 9,
   "id": "637f466c",
   "metadata": {},
   "outputs": [
    {
     "name": "stdout",
     "output_type": "stream",
     "text": [
      "data: [50, 10, 15, 20]\t data_copy: [5, 10, 15, 20]\n"
     ]
    }
   ],
   "source": [
    "# using [:] to copy a list\n",
    "data = [5, 10, 15, 20]\n",
    "data_copy = data[:]\n",
    "data[0] = 50\n",
    "print(\"data: {}\\t data_copy: {}\".format(data, data_copy))"
   ]
  },
  {
   "cell_type": "markdown",
   "id": "9b409ed6",
   "metadata": {},
   "source": [
    "# For Loops"
   ]
  },
  {
   "cell_type": "code",
   "execution_count": 1,
   "id": "be23532d",
   "metadata": {},
   "outputs": [
    {
     "name": "stdout",
     "output_type": "stream",
     "text": [
      "Value: 0\n",
      "Value: 1\n",
      "Value: 2\n",
      "Value: 3\n",
      "Value: 4\n"
     ]
    }
   ],
   "source": [
    "# writing your first for loop using range\n",
    "for num in range(5):\n",
    "    print(\"Value: {}\".format(num))"
   ]
  },
  {
   "cell_type": "code",
   "execution_count": 2,
   "id": "406096cf",
   "metadata": {},
   "outputs": [
    {
     "name": "stdout",
     "output_type": "stream",
     "text": [
      "Value: 2\n",
      "Value: 4\n",
      "Value: 6\n",
      "Value: 8\n"
     ]
    }
   ],
   "source": [
    "# providing the start, stop, and step for the range function\n",
    "for num in range(2, 10, 2):\n",
    "    print(\"Value: {}\".format(num))\n",
    "    "
   ]
  },
  {
   "cell_type": "code",
   "execution_count": 3,
   "id": "509dea53",
   "metadata": {},
   "outputs": [
    {
     "name": "stdout",
     "output_type": "stream",
     "text": [
      "Value: J\n",
      "Value: o\n",
      "Value: h\n",
      "Value: n\n",
      "Value:  \n",
      "Value: S\n",
      "Value: m\n",
      "Value: i\n",
      "Value: t\n",
      "Value: h\n"
     ]
    }
   ],
   "source": [
    "# printing all characters in a name using the \"in\" keyword\n",
    "name = \"John Smith\"\n",
    "for letter in name:\n",
    "    print(\"Value: {}\".format(letter))"
   ]
  },
  {
   "cell_type": "code",
   "execution_count": 4,
   "id": "0b68a6c8",
   "metadata": {},
   "outputs": [
    {
     "name": "stdout",
     "output_type": "stream",
     "text": [
      "0\n",
      "1\n",
      "2\n",
      "4\n"
     ]
    }
   ],
   "source": [
    "# using the continue statement within a for loop\n",
    "for num in range(5):\n",
    "    if num == 3:\n",
    "        continue\n",
    "    print(num)"
   ]
  },
  {
   "cell_type": "code",
   "execution_count": 5,
   "id": "97ab4160",
   "metadata": {},
   "outputs": [
    {
     "name": "stdout",
     "output_type": "stream",
     "text": [
      "0\n",
      "1\n",
      "2\n"
     ]
    }
   ],
   "source": [
    "# breaking out of a loop using the \"break\" keyword\n",
    "for num in range(5):\n",
    "    if num == 3:\n",
    "        break;\n",
    "    print(num)"
   ]
  },
  {
   "cell_type": "code",
   "execution_count": 6,
   "id": "14c9a16c",
   "metadata": {},
   "outputs": [],
   "source": [
    "# setting a placeholder using the \"pass\" keyword\n",
    "for i in range(5):\n",
    "    #TODO: add code to print number\n",
    "    pass"
   ]
  },
  {
   "cell_type": "code",
   "execution_count": 8,
   "id": "5e68f6ba",
   "metadata": {},
   "outputs": [
    {
     "name": "stdout",
     "output_type": "stream",
     "text": [
      "3\n",
      "6\n",
      "9\n",
      "12\n",
      "15\n",
      "18\n",
      "21\n",
      "24\n",
      "27\n",
      "30\n",
      "33\n",
      "36\n",
      "39\n",
      "42\n",
      "45\n",
      "48\n",
      "51\n",
      "54\n",
      "57\n",
      "60\n",
      "63\n",
      "66\n",
      "69\n",
      "72\n",
      "75\n",
      "78\n",
      "81\n",
      "84\n",
      "87\n",
      "90\n",
      "93\n",
      "96\n",
      "99\n"
     ]
    }
   ],
   "source": [
    "for i in range(1,100):\n",
    "    if i%3 == 0:\n",
    "        print(i)\n"
   ]
  },
  {
   "cell_type": "markdown",
   "id": "e84f8ea2",
   "metadata": {},
   "source": [
    "# While Loops"
   ]
  },
  {
   "cell_type": "code",
   "execution_count": 11,
   "id": "0ed09fd1",
   "metadata": {},
   "outputs": [
    {
     "name": "stdout",
     "output_type": "stream",
     "text": [
      "10\n",
      "9\n",
      "8\n",
      "7\n",
      "6\n",
      "5\n",
      "4\n",
      "3\n",
      "2\n",
      "1\n"
     ]
    }
   ],
   "source": [
    "# writing your first while loop\n",
    "health = 10\n",
    "while health > 0:\n",
    "    print(health)\n",
    "    health -= 1"
   ]
  },
  {
   "cell_type": "code",
   "execution_count": 12,
   "id": "c19a9bf7",
   "metadata": {},
   "outputs": [
    {
     "name": "stdout",
     "output_type": "stream",
     "text": [
      "0 0\n",
      "0 1\n",
      "0 2\n",
      "1 0\n",
      "1 1\n",
      "1 2\n"
     ]
    }
   ],
   "source": [
    "# using two or more loops together is called a nested loop\n",
    "for i in range(2):\n",
    "    for j in range(3):\n",
    "        print(i,j)"
   ]
  },
  {
   "cell_type": "code",
   "execution_count": 14,
   "id": "e03409e4",
   "metadata": {},
   "outputs": [
    {
     "name": "stdout",
     "output_type": "stream",
     "text": [
      "What do you wanna do? hi\n",
      "What do you wanna do? hi\n",
      "What do you wanna do? no\n",
      "What do you wanna do? quit\n"
     ]
    }
   ],
   "source": [
    "x = \"\"\n",
    "while x != \"quit\":\n",
    "    x = input(\"What do you wanna do? \")"
   ]
  },
  {
   "cell_type": "markdown",
   "id": "c78ff65d",
   "metadata": {},
   "source": [
    "# Working with Lists"
   ]
  },
  {
   "cell_type": "code",
   "execution_count": 15,
   "id": "01df380c",
   "metadata": {},
   "outputs": [
    {
     "name": "stdout",
     "output_type": "stream",
     "text": [
      "3\n"
     ]
    }
   ],
   "source": [
    "# checking the number of items within a list\n",
    "nums = [5, 10, 15]\n",
    "length = len(nums)\n",
    "print(length)"
   ]
  },
  {
   "cell_type": "code",
   "execution_count": 16,
   "id": "98f8025a",
   "metadata": {},
   "outputs": [
    {
     "name": "stdout",
     "output_type": "stream",
     "text": [
      "[10, 15]\n",
      "[5, 10]\n",
      "[5, 15]\n",
      "[10, 15]\n"
     ]
    }
   ],
   "source": [
    "# accessing specific items of a list with slices\n",
    "print(nums[1:3])\n",
    "print(nums[:2])\n",
    "print(nums[::2])\n",
    "print(nums[-2:])"
   ]
  },
  {
   "cell_type": "code",
   "execution_count": 17,
   "id": "1c546053",
   "metadata": {},
   "outputs": [
    {
     "name": "stdout",
     "output_type": "stream",
     "text": [
      "[10, 20, 5]\n"
     ]
    }
   ],
   "source": [
    "# adding an item to the back of a list using append\n",
    "nums = [10, 20]\n",
    "nums.append(5)\n",
    "print(nums)"
   ]
  },
  {
   "cell_type": "code",
   "execution_count": 21,
   "id": "0c8502a7",
   "metadata": {},
   "outputs": [
    {
     "name": "stdout",
     "output_type": "stream",
     "text": [
      "['glove', 'glove', 'glove', 'glove', 10, 20, 5]\n"
     ]
    }
   ],
   "source": [
    "# adding a value to the beginning of the list\n",
    "words = [\"ball\", \"base\"]\n",
    "nums.insert(0, \"glove\")\n",
    "print(nums)"
   ]
  },
  {
   "cell_type": "code",
   "execution_count": 23,
   "id": "f999cba5",
   "metadata": {},
   "outputs": [
    {
     "name": "stdout",
     "output_type": "stream",
     "text": [
      "5 \n",
      " ['ball']\n"
     ]
    }
   ],
   "source": [
    "# using pop to remove items and saving to a variable to use later\n",
    "items = [5, \"ball\", True]\n",
    "items.pop()\n",
    "removed_item = items.pop(0)\n",
    "print(removed_item, \"\\n\", items)"
   ]
  },
  {
   "cell_type": "code",
   "execution_count": 25,
   "id": "59171ae9",
   "metadata": {},
   "outputs": [
    {
     "name": "stdout",
     "output_type": "stream",
     "text": [
      "['baseball', 'football', 'hockey']\n"
     ]
    }
   ],
   "source": [
    "# using the remove method with a try and except\n",
    "sports = [\"baseball\", \"soccer\", \"football\", \"hockey\"]\n",
    "try:\n",
    "    sports.remove(\"soccer\")\n",
    "except:\n",
    "    print(\"That item does not exist in the list\")\n",
    "print(sports)"
   ]
  },
  {
   "cell_type": "code",
   "execution_count": 27,
   "id": "55d8a09d",
   "metadata": {},
   "outputs": [
    {
     "name": "stdout",
     "output_type": "stream",
     "text": [
      "3\n",
      "9\n",
      "17\n"
     ]
    }
   ],
   "source": [
    "# using min, max, and sum\n",
    "nums = [5, 3, 9]\n",
    "print(min(nums))\n",
    "print(max(nums))\n",
    "print(sum(nums))"
   ]
  },
  {
   "cell_type": "code",
   "execution_count": 28,
   "id": "1970b2f2",
   "metadata": {},
   "outputs": [
    {
     "name": "stdout",
     "output_type": "stream",
     "text": [
      "[5, 8, 0, 2] [0, 2, 5, 8]\n"
     ]
    }
   ],
   "source": [
    "# using sorted on lists for numerical and alphabetical data\n",
    "nums = [5, 8, 0, 2]\n",
    "sorted_nums = sorted(nums)\n",
    "print(nums, sorted_nums)"
   ]
  },
  {
   "cell_type": "code",
   "execution_count": 29,
   "id": "30012730",
   "metadata": {},
   "outputs": [
    {
     "name": "stdout",
     "output_type": "stream",
     "text": [
      "[0, 2, 5, 8]\n"
     ]
    }
   ],
   "source": [
    "# sorting a list with .sort() in-place\n",
    "nums.sort()\n",
    "print(nums)"
   ]
  },
  {
   "cell_type": "code",
   "execution_count": 30,
   "id": "302ef774",
   "metadata": {},
   "outputs": [
    {
     "name": "stdout",
     "output_type": "stream",
     "text": [
      "found\n",
      "not found\n"
     ]
    }
   ],
   "source": [
    "# using conditional statements on a list\n",
    "names = [\"Jack\", \"Robert\", \"Mary\"]\n",
    "if \"Mary\" in names:\n",
    "    print(\"found\")\n",
    "if \"Jimmy\" not in names:\n",
    "    print(\"not found\")"
   ]
  },
  {
   "cell_type": "code",
   "execution_count": 31,
   "id": "60cab391",
   "metadata": {},
   "outputs": [
    {
     "name": "stdout",
     "output_type": "stream",
     "text": [
      "empty\n"
     ]
    }
   ],
   "source": [
    "# using conditionals to see if a list is empty\n",
    "nums = []\n",
    "if not nums:\n",
    "    print(\"empty\")"
   ]
  },
  {
   "cell_type": "code",
   "execution_count": null,
   "id": "c9eda5f8",
   "metadata": {},
   "outputs": [],
   "source": [
    "# using a for loop to print all items in a list\n",
    "sports = [\"Baseball\", \"Hockey\", \"Football\", \"Basketball\"]\n",
    "for sport in sports:\n",
    "    print(sport)"
   ]
  },
  {
   "cell_type": "code",
   "execution_count": 34,
   "id": "d0bf45d7",
   "metadata": {},
   "outputs": [
    {
     "name": "stdout",
     "output_type": "stream",
     "text": [
      "['Jack', 'Rob', 'Robert']\n"
     ]
    }
   ],
   "source": [
    "# using the while loop to remove a certain value\n",
    "names = [\"Bob\", \"Jack\", \"Rob\", \"Bob\", \"Robert\"]\n",
    "while \"Bob\" in names:\n",
    "    names.remove(\"Bob\")\n",
    "print(names)"
   ]
  },
  {
   "cell_type": "code",
   "execution_count": 36,
   "id": "60f7ed37",
   "metadata": {},
   "outputs": [
    {
     "name": "stdout",
     "output_type": "stream",
     "text": [
      "['Amanda', 'Bob', 'Kenny']\n"
     ]
    }
   ],
   "source": [
    "# Remove Duplicates\n",
    "names = [\"Bob\", \"Kenny\", \"Amanda\", \"Bob\", \"Kenny\"]\n",
    "for name in names:\n",
    "    if names.count(name) > 1:\n",
    "        names.remove(name)\n",
    "print(names)"
   ]
  },
  {
   "cell_type": "code",
   "execution_count": 39,
   "id": "0ce42045",
   "metadata": {},
   "outputs": [
    {
     "name": "stdout",
     "output_type": "stream",
     "text": [
      "Say a word: p \n",
      "Say a word: er\n",
      "Say a word: dk\n",
      "Say a word: quit\n",
      "p \n",
      "er\n",
      "dk\n",
      "quit\n"
     ]
    }
   ],
   "source": [
    "# User Input\n",
    "x = \"\"\n",
    "l = []\n",
    "while x != \"quit\":\n",
    "    x = input(\"Say a word: \")\n",
    "    l.append(x)\n",
    "for items in l:\n",
    "    print(items)"
   ]
  },
  {
   "cell_type": "markdown",
   "id": "191ea135",
   "metadata": {},
   "source": [
    "# Friday Project: Creating Hangman"
   ]
  },
  {
   "cell_type": "code",
   "execution_count": 64,
   "id": "bc1aedc3",
   "metadata": {
    "scrolled": true
   },
   "outputs": [
    {
     "name": "stdout",
     "output_type": "stream",
     "text": [
      "Thanks for playing.\n"
     ]
    }
   ],
   "source": [
    "# import additional functions\n",
    "from random import choice\n",
    "from IPython.display import clear_output\n",
    "\n",
    "# declare game variables\n",
    "words = [\"alkalizing\", \"beekeeping\", \"revivified\", \"jaywalking\", \"hobnobbing\"]\n",
    "word = choice(words)    # randomly chooses a word from words list\n",
    "guessed, lives, game_over = [], 7, False    # multi variable assignment\n",
    "\n",
    "# create a list of underscores to the length of the word\n",
    "guesses = [\"_\"] * len(word)\n",
    "\n",
    "# create main game loop\n",
    "while not game_over:\n",
    "    # output game information\n",
    "    hidden_word = \"\".join(guesses)\n",
    "    print(\"Your guessed letters: {}\".format(guessed))\n",
    "    print(\"Word to guess: {}\".format(hidden_word))\n",
    "    print(\"Lives: {}\".format(lives))\n",
    "    \n",
    "    ans = input(\"Type quit or guess a letter: \").lower()\n",
    "    clear_output()\n",
    "    \n",
    "    if ans == \"quit\":\n",
    "        print(\"Thanks for playing.\")\n",
    "        game_over = True\n",
    "    elif ans in word and ans not in guessed:\n",
    "        print(\"You guessed correctly!\")\n",
    "        \n",
    "        # create a loop to change underscore to proper letter\n",
    "        for i in range(len(word)):\n",
    "            if word[i] == ans:\n",
    "                guesses[i] = ans\n",
    "    elif ans in guessed:\n",
    "        print(\"You already gussed that. Try again.\")\n",
    "    else:\n",
    "        lives -= 1\n",
    "        print(\"Incorrect, you lost a life.\")\n",
    "    if ans not in guessed:\n",
    "        guessed.append(ans)\n",
    "    if lives <= 0:\n",
    "        print(\"You lost all your lives, you lost!\")\n",
    "        game_over = True\n",
    "    elif word == \"\".join(guesses):\n",
    "        print(\"Congratulations, you guessed it correcty!\")\n",
    "        game_over = True;\n",
    "        "
   ]
  },
  {
   "cell_type": "code",
   "execution_count": 82,
   "id": "f728f30b",
   "metadata": {},
   "outputs": [
    {
     "name": "stdout",
     "output_type": "stream",
     "text": [
      "How many rows do you want? 50\n",
      "                                                  \n",
      "                                                 x \n",
      "                                                x x \n",
      "                                               x x x \n",
      "                                              x x x x \n",
      "                                             x x x x x \n",
      "                                            x x x x x x \n",
      "                                           x x x x x x x \n",
      "                                          x x x x x x x x \n",
      "                                         x x x x x x x x x \n",
      "                                        x x x x x x x x x x \n",
      "                                       x x x x x x x x x x x \n",
      "                                      x x x x x x x x x x x x \n",
      "                                     x x x x x x x x x x x x x \n",
      "                                    x x x x x x x x x x x x x x \n",
      "                                   x x x x x x x x x x x x x x x \n",
      "                                  x x x x x x x x x x x x x x x x \n",
      "                                 x x x x x x x x x x x x x x x x x \n",
      "                                x x x x x x x x x x x x x x x x x x \n",
      "                               x x x x x x x x x x x x x x x x x x x \n",
      "                              x x x x x x x x x x x x x x x x x x x x \n",
      "                             x x x x x x x x x x x x x x x x x x x x x \n",
      "                            x x x x x x x x x x x x x x x x x x x x x x \n",
      "                           x x x x x x x x x x x x x x x x x x x x x x x \n",
      "                          x x x x x x x x x x x x x x x x x x x x x x x x \n",
      "                         x x x x x x x x x x x x x x x x x x x x x x x x x \n",
      "                        x x x x x x x x x x x x x x x x x x x x x x x x x x \n",
      "                       x x x x x x x x x x x x x x x x x x x x x x x x x x x \n",
      "                      x x x x x x x x x x x x x x x x x x x x x x x x x x x x \n",
      "                     x x x x x x x x x x x x x x x x x x x x x x x x x x x x x \n",
      "                    x x x x x x x x x x x x x x x x x x x x x x x x x x x x x x \n",
      "                   x x x x x x x x x x x x x x x x x x x x x x x x x x x x x x x \n",
      "                  x x x x x x x x x x x x x x x x x x x x x x x x x x x x x x x x \n",
      "                 x x x x x x x x x x x x x x x x x x x x x x x x x x x x x x x x x \n",
      "                x x x x x x x x x x x x x x x x x x x x x x x x x x x x x x x x x x \n",
      "               x x x x x x x x x x x x x x x x x x x x x x x x x x x x x x x x x x x \n",
      "              x x x x x x x x x x x x x x x x x x x x x x x x x x x x x x x x x x x x \n",
      "             x x x x x x x x x x x x x x x x x x x x x x x x x x x x x x x x x x x x x \n",
      "            x x x x x x x x x x x x x x x x x x x x x x x x x x x x x x x x x x x x x x \n",
      "           x x x x x x x x x x x x x x x x x x x x x x x x x x x x x x x x x x x x x x x \n",
      "          x x x x x x x x x x x x x x x x x x x x x x x x x x x x x x x x x x x x x x x x \n",
      "         x x x x x x x x x x x x x x x x x x x x x x x x x x x x x x x x x x x x x x x x x \n",
      "        x x x x x x x x x x x x x x x x x x x x x x x x x x x x x x x x x x x x x x x x x x \n",
      "       x x x x x x x x x x x x x x x x x x x x x x x x x x x x x x x x x x x x x x x x x x x \n",
      "      x x x x x x x x x x x x x x x x x x x x x x x x x x x x x x x x x x x x x x x x x x x x \n",
      "     x x x x x x x x x x x x x x x x x x x x x x x x x x x x x x x x x x x x x x x x x x x x x \n",
      "    x x x x x x x x x x x x x x x x x x x x x x x x x x x x x x x x x x x x x x x x x x x x x x \n",
      "   x x x x x x x x x x x x x x x x x x x x x x x x x x x x x x x x x x x x x x x x x x x x x x x \n",
      "  x x x x x x x x x x x x x x x x x x x x x x x x x x x x x x x x x x x x x x x x x x x x x x x x \n",
      " x x x x x x x x x x x x x x x x x x x x x x x x x x x x x x x x x x x x x x x x x x x x x x x x x \n"
     ]
    }
   ],
   "source": [
    "# Pyramids\n",
    "rows = int(input(\"How many rows do you want? \"))\n",
    "for i in range(rows):\n",
    "    print(\" \" * (rows - i) + \"x \" * i)\n"
   ]
  },
  {
   "cell_type": "code",
   "execution_count": 91,
   "id": "6fd9e0a3",
   "metadata": {},
   "outputs": [
    {
     "name": "stdout",
     "output_type": "stream",
     "text": [
      "John\n",
      "Amanda\n"
     ]
    }
   ],
   "source": [
    "# Output Names\n",
    "names = [\"John\", \" \", \"Amanda\", 5]\n",
    "for i in range(len(names)):\n",
    "    if type(names[i]) == str and names[i] != \" \":\n",
    "        print(names[i])"
   ]
  },
  {
   "cell_type": "code",
   "execution_count": 92,
   "id": "1129255d",
   "metadata": {},
   "outputs": [
    {
     "name": "stdout",
     "output_type": "stream",
     "text": [
      "[89.6, 53.6, 111.2, 84.2]\n"
     ]
    }
   ],
   "source": [
    "# Convert Celsius\n",
    "tempsC = [32, 12, 44, 29]\n",
    "tempsF =[]\n",
    "for i in range(len(tempsC)):\n",
    "    tempsF.append((tempsC[i]*(9/5)+32))\n",
    "print(tempsF)"
   ]
  },
  {
   "cell_type": "code",
   "execution_count": null,
   "id": "81ad6412",
   "metadata": {},
   "outputs": [],
   "source": []
  }
 ],
 "metadata": {
  "kernelspec": {
   "display_name": "Python 3 (ipykernel)",
   "language": "python",
   "name": "python3"
  },
  "language_info": {
   "codemirror_mode": {
    "name": "ipython",
    "version": 3
   },
   "file_extension": ".py",
   "mimetype": "text/x-python",
   "name": "python",
   "nbconvert_exporter": "python",
   "pygments_lexer": "ipython3",
   "version": "3.9.12"
  }
 },
 "nbformat": 4,
 "nbformat_minor": 5
}
